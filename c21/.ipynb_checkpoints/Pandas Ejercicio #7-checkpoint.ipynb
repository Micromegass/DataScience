{
 "cells": [
  {
   "cell_type": "markdown",
   "metadata": {},
   "source": [
    "# Pandas Ejercicio #7"
   ]
  },
  {
   "cell_type": "markdown",
   "metadata": {},
   "source": [
    "Cool T-Shirts te ha preguntado si puedes analizar los datos de su sitio web. Tu trabajo es construir un \"Funnel\" (una descripcion de como las personas van al siguiente paso dentro de un proceso de multiples pasos)\n",
    "\n",
    "En este caso, nuestro funnel seria como el siguiente proceso:\n",
    "\n",
    "- 1. Un user visita la pagina web de Cool T-shirt\n",
    "- 2. El usuario añade una prenda (camiseta) a su carrito de compras\n",
    "- 3. El usuario hace click en \"checkout\"\n",
    "- 4. El usuario compra la camiseta\n",
    "\n",
    "### Ciudado: en el momento de usar el metodo `read_csv` pase un segundo parametro para parsear las fechas asi: `parse_dates=[1]`"
   ]
  },
  {
   "cell_type": "code",
   "execution_count": 1,
   "metadata": {},
   "outputs": [],
   "source": [
    "import pandas as pd"
   ]
  },
  {
   "cell_type": "code",
   "execution_count": 5,
   "metadata": {},
   "outputs": [],
   "source": [
    "visits = pd.read_csv('visits.csv')\n",
    "visits.head()\n",
    "cart = pd.read_csv('cart.csv')"
   ]
  },
  {
   "cell_type": "markdown",
   "metadata": {},
   "source": [
    "Combine `visits` y `cart` usando un left merge"
   ]
  },
  {
   "cell_type": "code",
   "execution_count": null,
   "metadata": {},
   "outputs": [],
   "source": []
  },
  {
   "cell_type": "markdown",
   "metadata": {},
   "source": [
    "Que tan largo es la nuevo dataframe?"
   ]
  },
  {
   "cell_type": "code",
   "execution_count": null,
   "metadata": {},
   "outputs": [],
   "source": []
  },
  {
   "cell_type": "markdown",
   "metadata": {},
   "source": [
    "Cuantos `timestamps` son `null` o `NaT` para la columna `cart_time`?"
   ]
  },
  {
   "cell_type": "code",
   "execution_count": null,
   "metadata": {},
   "outputs": [],
   "source": []
  },
  {
   "cell_type": "markdown",
   "metadata": {},
   "source": [
    "Que porcentaje de usuarios que han visitado el sitio han terminado poniendo una camiseta en su carrito de compras?\n",
    "\n",
    "Nota: para calcular porcentajes, es util cambiar cualquier numero entero en un flotante `float()`. De otra forma Python suara una division entre enteros, el cual corta los puntos decimales"
   ]
  },
  {
   "cell_type": "code",
   "execution_count": null,
   "metadata": {},
   "outputs": [],
   "source": []
  },
  {
   "cell_type": "markdown",
   "metadata": {},
   "source": [
    "Repita el left merge para `cart` y `checkout` y cuente los valores `null`. Que porcentaje de usuarios pusieron items en el carrito de comoras, pero no procedieron a terminar la compra?"
   ]
  },
  {
   "cell_type": "code",
   "execution_count": null,
   "metadata": {},
   "outputs": [],
   "source": []
  },
  {
   "cell_type": "code",
   "execution_count": null,
   "metadata": {},
   "outputs": [],
   "source": []
  },
  {
   "cell_type": "markdown",
   "metadata": {},
   "source": [
    "Haga un merge sobre todos pasos del funnel usando una serie de left merges. Guarde el resultado en la variable `all_data`"
   ]
  },
  {
   "cell_type": "code",
   "execution_count": null,
   "metadata": {},
   "outputs": [],
   "source": []
  },
  {
   "cell_type": "markdown",
   "metadata": {},
   "source": [
    "Que porcentaje de usuarios procedieron al checkout, pero no comparon una camistea?"
   ]
  },
  {
   "cell_type": "code",
   "execution_count": null,
   "metadata": {},
   "outputs": [],
   "source": []
  },
  {
   "cell_type": "markdown",
   "metadata": {},
   "source": [
    "Usando el dataframe gigante que guardamos en `all_data`, vamos a crear erl tiempo promedio desde la visita inicial hasta la compra final. Empice añadiendo la siguiente columna a su dataframe:\n",
    "\n",
    "`\n",
    "all_data['time_to_purchase'] = \\\n",
    "    all_data.purchase_time - \\\n",
    "    all_data.visit_time\n",
    "`"
   ]
  },
  {
   "cell_type": "code",
   "execution_count": null,
   "metadata": {},
   "outputs": [],
   "source": []
  },
  {
   "cell_type": "markdown",
   "metadata": {},
   "source": [
    "Examine el resultado usando"
   ]
  },
  {
   "cell_type": "code",
   "execution_count": null,
   "metadata": {},
   "outputs": [],
   "source": [
    "print(all_data.time_to_purchase)"
   ]
  },
  {
   "cell_type": "markdown",
   "metadata": {},
   "source": [
    "Calcule el tiempo promedio de compra"
   ]
  },
  {
   "cell_type": "code",
   "execution_count": null,
   "metadata": {},
   "outputs": [],
   "source": []
  },
  {
   "cell_type": "code",
   "execution_count": null,
   "metadata": {},
   "outputs": [],
   "source": []
  }
 ],
 "metadata": {
  "kernelspec": {
   "display_name": "Python 3",
   "language": "python",
   "name": "python3"
  },
  "language_info": {
   "codemirror_mode": {
    "name": "ipython",
    "version": 3
   },
   "file_extension": ".py",
   "mimetype": "text/x-python",
   "name": "python",
   "nbconvert_exporter": "python",
   "pygments_lexer": "ipython3",
   "version": "3.8.2"
  }
 },
 "nbformat": 4,
 "nbformat_minor": 2
}
