{
 "cells": [
  {
   "cell_type": "markdown",
   "metadata": {},
   "source": [
    "# Parte I -  Numpy Ejercicio Distribucion"
   ]
  },
  {
   "cell_type": "markdown",
   "metadata": {},
   "source": [
    "Importe Numpy y Matplotlib"
   ]
  },
  {
   "cell_type": "code",
   "execution_count": 3,
   "metadata": {},
   "outputs": [],
   "source": [
    "import numpy as np\n",
    "import matplotlib\n",
    "from matplotlib import pyplot as plt"
   ]
  },
  {
   "cell_type": "markdown",
   "metadata": {},
   "source": [
    "Nuestro amigo es paleontólogo. Está estudiando dos tipos de dinosaurios: el braquiosaurio y el fictionosaurio. Él nos dice eso:\n",
    "- Los braquiosaurios tienen fémures (hueso del muslo) con una longitud media de 6,7 pies y una desviación estándar de 0,7 pies.\n",
    "- Los fictionosaurios tienen fémures (hueso del muslo) con una longitud media de 7,7 pies y una desviación estándar de 0,3 pies.\n",
    "\n",
    "Nos gustaría saber cómo son estas distribuciones.\n",
    "\n",
    "Use `np.random.normal` para rellenar en `b_data`(brachiosaurus) y `f_data` (fictionosaurus) con muestras generadas aleatoriamente con la media correcta y la desviación estándar. Cada conjunto de datos debe tener 1000 muestras."
   ]
  },
  {
   "cell_type": "code",
   "execution_count": 4,
   "metadata": {},
   "outputs": [
    {
     "name": "stdout",
     "output_type": "stream",
     "text": [
      "Eso es la distribucion normal de los braquiosaurios\n"
     ]
    },
    {
     "data": {
      "image/png": "[encoded data removed]",
      "text/plain": [
       "<Figure size 432x288 with 1 Axes>"
      ]
     },
     "metadata": {
      "needs_background": "light"
     },
     "output_type": "display_data"
    },
    {
     "name": "stdout",
     "output_type": "stream",
     "text": [
      "Eso es la distribucion normal de los fictionosaurios\n"
     ]
    },
    {
     "data": {
      "image/png": "[encoded data removed]",
      "text/plain": [
       "<Figure size 432x288 with 1 Axes>"
      ]
     },
     "metadata": {
      "needs_background": "light"
     },
     "output_type": "display_data"
    }
   ],
   "source": [
    "braquiosaurios= np.random.normal(6.7, 0.7, size=10000)\n",
    "\n",
    "print(f\"Eso es la distribucion normal de los braquiosaurios\")\n",
    "plt.hist(braquiosaurios)\n",
    "plt.show()\n",
    "\n",
    "\n",
    "fictionosaurios= np.random.normal(7.7, 0.3, size=10000)\n",
    "\n",
    "print(f\"Eso es la distribucion normal de los fictionosaurios\")\n",
    "plt.hist(fictionosaurios)\n",
    "plt.show()\n",
    "\n",
    "\n"
   ]
  },
  {
   "cell_type": "markdown",
   "metadata": {},
   "source": [
    "El código que le proporcionamos a continuación graficará las distribuciones por usted."
   ]
  },
  {
   "cell_type": "code",
   "execution_count": 5,
   "metadata": {},
   "outputs": [
    {
     "data": {
      "image/png": "[encoded data removed]",
      "text/plain": [
       "<Figure size 432x288 with 1 Axes>"
      ]
     },
     "metadata": {
      "needs_background": "light"
     },
     "output_type": "display_data"
    }
   ],
   "source": [
    "b_data = np.random.normal(6.7, 0.7, size=10000)\n",
    "f_data = np.random.normal(7.7, 0.3, size=10000)\n",
    "plt.hist(b_data,\n",
    "         bins=30, range=(5, 8.5), histtype='step',\n",
    "         label='Brachiosaurus')\n",
    "plt.hist(f_data,\n",
    "         bins=30, range=(5, 8.5), histtype='step',\n",
    "         label='Fictionosaurus')\n",
    "plt.xlabel('Femur Length (ft)')\n",
    "plt.legend(loc=2)\n",
    "plt.show()"
   ]
  },
  {
   "cell_type": "markdown",
   "metadata": {},
   "source": [
    "Nuestro amigo descubrió un fémur de un dinosaurio no identificado en su última excavación. El fémur mide 6,6 pies de largo.\n",
    "\n",
    "Tu amigo está bastante seguro de que el fémur pertenece a un braquiosaurio o a un fictionosaurio. Mirando los datos graficados, determine a qué dinosaurio es más probable que pertenezca este esqueleto, y guarde su respuesta al dinosaurio variable `mystery_dino`."
   ]
  },
  {
   "cell_type": "code",
   "execution_count": 6,
   "metadata": {},
   "outputs": [
    {
     "name": "stdout",
     "output_type": "stream",
     "text": [
      "El dino cariñoso es el braquiosaurio\n"
     ]
    }
   ],
   "source": [
    "mystery_dino = \"braquiosaurio\"\n",
    "\n",
    "print(f\"El dino cariñoso es el {mystery_dino}\")"
   ]
  },
  {
   "cell_type": "markdown",
   "metadata": {},
   "source": [
    "Nuestro amigo descubrió otro fémur. Este fémur tiene 7.5 pies de largo. Obviamente, 7.5 pies está más cerca de la media para un fictionosaurio (7.7 pies), que de la media para un braquiosaurio (6.5 pies).\n",
    "\n",
    "¿Podemos estar absolutamente seguros de que el fémur proviene de un fictionosaurio? Guarde su respuesta (ya sea Verdadero o Falso) para responder."
   ]
  },
  {
   "cell_type": "code",
   "execution_count": 7,
   "metadata": {},
   "outputs": [
    {
     "name": "stdout",
     "output_type": "stream",
     "text": [
      "Obviamente es False. No se puede ser absolutamente seguro, siempre hay excepciones\n"
     ]
    }
   ],
   "source": [
    "respuesta = False\n",
    "\n",
    "print(f\"Obviamente es {respuesta}. No se puede ser absolutamente seguro, siempre hay excepciones\")\n",
    "\n",
    "\n",
    "#¿Cómo le ayudan los histogramas a explicar su respuesta?\n",
    "\n",
    "# Se puede ver muy rapido cual es lo mas probable. \n",
    "# Lo que estan mas cerca de la mitad son lo que mas cerca del estandard. O sea \n",
    "# que devian lo menos del estandard. Aunque no se puede ser exactamente seguro porque excepciones si hay. "
   ]
  },
  {
   "cell_type": "markdown",
   "metadata": {},
   "source": [
    "¿Cómo le ayudan los histogramas a explicar su respuesta?"
   ]
  },
  {
   "cell_type": "markdown",
   "metadata": {},
   "source": [
    "# Parte II -  Desviacion Stadard y Distribucion Normal"
   ]
  },
  {
   "cell_type": "markdown",
   "metadata": {},
   "source": [
    "El puntaje promedio en los exámenes SAT es de 1000 y la desviación estándar es de 100.\n",
    "\n",
    "Calcule la cantidad que sería una desviación estándar por encima de la media, y guárdela en la variable `one_above`."
   ]
  },
  {
   "cell_type": "code",
   "execution_count": 8,
   "metadata": {},
   "outputs": [
    {
     "name": "stdout",
     "output_type": "stream",
     "text": [
      "1100\n"
     ]
    }
   ],
   "source": [
    "promedio = 1000\n",
    "std = 100\n",
    "\n",
    "one_above = 1000 + 100\n",
    "print(one_above)\n",
    "\n"
   ]
  },
  {
   "cell_type": "markdown",
   "metadata": {},
   "source": [
    "Calcule la cantidad que sería una desviación estándar por debajo de la media y guárdela en la variable `one_below`."
   ]
  },
  {
   "cell_type": "code",
   "execution_count": 9,
   "metadata": {},
   "outputs": [
    {
     "name": "stdout",
     "output_type": "stream",
     "text": [
      "900\n"
     ]
    }
   ],
   "source": [
    "one_below = 1000 - 100\n",
    "print(one_below)\n"
   ]
  },
  {
   "cell_type": "markdown",
   "metadata": {},
   "source": [
    "Imprima los valores de ambas variables"
   ]
  },
  {
   "cell_type": "code",
   "execution_count": 10,
   "metadata": {},
   "outputs": [
    {
     "name": "stdout",
     "output_type": "stream",
     "text": [
      "1100\n",
      "900\n"
     ]
    }
   ],
   "source": [
    "print(one_above)\n",
    "print(one_below)"
   ]
  },
  {
   "cell_type": "markdown",
   "metadata": {},
   "source": [
    "2000 estudiantes tomaron el examen. ¿Cuántos esperarían tener puntajes dentro del rango de `one_above` y `one_below`?\n",
    "\n",
    "Guarde su respuesta a la variable `one_std` e imprímala en el terminal."
   ]
  },
  {
   "cell_type": "code",
   "execution_count": 11,
   "metadata": {},
   "outputs": [
    {
     "name": "stdout",
     "output_type": "stream",
     "text": [
      "1360.0 probablemente van a tener puntajes dentro de los rangos\n"
     ]
    }
   ],
   "source": [
    "##2000 = 100%\n",
    "one_std = (2000/100)*68\n",
    "one_std\n",
    "\n",
    "print(f\"{one_std} probablemente van a tener puntajes dentro de los rangos\")"
   ]
  },
  {
   "cell_type": "markdown",
   "metadata": {},
   "source": [
    "# Parte III -  Distribucion binomial y probabilidad\n"
   ]
  },
  {
   "cell_type": "markdown",
   "metadata": {},
   "source": [
    "Enviamos 500 correos electrónicos, con una probabilidad estimada de que 25 personas abrieran el correo electrónico. Y hubo 10.000 trials (personas que probaron el producto). Cree el random binomial"
   ]
  },
  {
   "cell_type": "code",
   "execution_count": 12,
   "metadata": {},
   "outputs": [
    {
     "name": "stdout",
     "output_type": "stream",
     "text": [
      "[32 34 34 ... 25 21 18]\n"
     ]
    },
    {
     "data": {
      "image/png": "[encoded data removed]",
      "text/plain": [
       "<Figure size 432x288 with 1 Axes>"
      ]
     },
     "metadata": {
      "needs_background": "light"
     },
     "output_type": "display_data"
    }
   ],
   "source": [
    "n = 500\n",
    "p = 0.05\n",
    "\n",
    "\n",
    "a = np.random.binomial(n, p, size=10000)\n",
    "print(a)\n",
    "\n",
    "plt.hist(a)\n",
    "plt.show()\n",
    "\n",
    "\n"
   ]
  },
  {
   "cell_type": "markdown",
   "metadata": {},
   "source": [
    "¿Cuál es la probabilidad de que nadie abra el correo electrónico? Guardar los resultados en los variable `no_emails`."
   ]
  },
  {
   "cell_type": "code",
   "execution_count": 13,
   "metadata": {},
   "outputs": [
    {
     "data": {
      "text/plain": [
       "0.0"
      ]
     },
     "execution_count": 13,
     "metadata": {},
     "output_type": "execute_result"
    }
   ],
   "source": [
    "no_emails = np.mean(a == 0)\n",
    "no_emails * 100"
   ]
  },
  {
   "cell_type": "markdown",
   "metadata": {},
   "source": [
    "Recientemente contrató a un nuevo socio de marketing que quiere probar dos correos electrónicos (hacer un A/B testing) para ver si la gente responde mejor. \n",
    "\n",
    "¿Cuál es la probabilidad de que el 8% o más de las personas abran el correo electrónico? Guardar los resultados en el variable `b_test_emails`."
   ]
  },
  {
   "cell_type": "code",
   "execution_count": 14,
   "metadata": {},
   "outputs": [
    {
     "data": {
      "text/plain": [
       "0.22999999999999998"
      ]
     },
     "execution_count": 14,
     "metadata": {},
     "output_type": "execute_result"
    }
   ],
   "source": [
    "b_test_emails = np.mean(a >= 40)\n",
    "b_test_emails * 100"
   ]
  },
  {
   "cell_type": "markdown",
   "metadata": {},
   "source": [
    "Imprimir las variables `no_emails` y `b_test_emails`"
   ]
  },
  {
   "cell_type": "code",
   "execution_count": 15,
   "metadata": {},
   "outputs": [
    {
     "data": {
      "text/plain": [
       "0.0"
      ]
     },
     "execution_count": 15,
     "metadata": {},
     "output_type": "execute_result"
    }
   ],
   "source": [
    "no_emails"
   ]
  },
  {
   "cell_type": "code",
   "execution_count": 16,
   "metadata": {},
   "outputs": [
    {
     "data": {
      "text/plain": [
       "0.0023"
      ]
     },
     "execution_count": 16,
     "metadata": {},
     "output_type": "execute_result"
    }
   ],
   "source": [
    "b_test_emails"
   ]
  },
  {
   "cell_type": "code",
   "execution_count": 17,
   "metadata": {},
   "outputs": [],
   "source": [
    "a = np.array([1,2])"
   ]
  },
  {
   "cell_type": "code",
   "execution_count": null,
   "metadata": {},
   "outputs": [],
   "source": []
  },
  {
   "cell_type": "code",
   "execution_count": null,
   "metadata": {},
   "outputs": [],
   "source": []
  },
  {
   "cell_type": "code",
   "execution_count": null,
   "metadata": {},
   "outputs": [],
   "source": []
  },
  {
   "cell_type": "code",
   "execution_count": null,
   "metadata": {},
   "outputs": [],
   "source": []
  }
 ],
 "metadata": {
  "kernelspec": {
   "display_name": "Python 3",
   "language": "python",
   "name": "python3"
  },
  "language_info": {
   "codemirror_mode": {
    "name": "ipython",
    "version": 3
   },
   "file_extension": ".py",
   "mimetype": "text/x-python",
   "name": "python",
   "nbconvert_exporter": "python",
   "pygments_lexer": "ipython3",
   "version": "3.8.2"
  }
 },
 "nbformat": 4,
 "nbformat_minor": 2
}
