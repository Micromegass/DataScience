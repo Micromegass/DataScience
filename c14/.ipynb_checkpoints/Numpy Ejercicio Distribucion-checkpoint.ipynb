{
 "cells": [
  {
   "cell_type": "markdown",
   "metadata": {},
   "source": [
    "# Parte I -  Numpy Ejercicio Distribucion"
   ]
  },
  {
   "cell_type": "markdown",
   "metadata": {},
   "source": [
    "Importe Numpy y Matplotlib"
   ]
  },
  {
   "cell_type": "code",
   "execution_count": 1,
   "metadata": {},
   "outputs": [],
   "source": [
    "import numpy as np\n",
    "import matplotlib\n",
    "from matplotlib import pyplot as plt"
   ]
  },
  {
   "cell_type": "markdown",
   "metadata": {},
   "source": [
    "Nuestro amigo es paleontólogo. Está estudiando dos tipos de dinosaurios: el braquiosaurio y el fictionosaurio. Él nos dice eso:\n",
    "- Los braquiosaurios tienen fémures (hueso del muslo) con una longitud media de 6,7 pies y una desviación estándar de 0,7 pies.\n",
    "- Los fictionosaurios tienen fémures (hueso del muslo) con una longitud media de 7,7 pies y una desviación estándar de 0,3 pies.\n",
    "\n",
    "Nos gustaría saber cómo son estas distribuciones.\n",
    "\n",
    "Use `np.random.normal` para rellenar en `b_data`(brachiosaurus) y `f_data` (fictionosaurus) con muestras generadas aleatoriamente con la media correcta y la desviación estándar. Cada conjunto de datos debe tener 1000 muestras."
   ]
  },
  {
   "cell_type": "code",
   "execution_count": null,
   "metadata": {},
   "outputs": [],
   "source": [
    "np.random.normal(6.7, 0.7)"
   ]
  },
  {
   "cell_type": "markdown",
   "metadata": {},
   "source": [
    "El código que le proporcionamos a continuación graficará las distribuciones por usted."
   ]
  },
  {
   "cell_type": "code",
   "execution_count": null,
   "metadata": {},
   "outputs": [],
   "source": []
  },
  {
   "cell_type": "markdown",
   "metadata": {},
   "source": [
    "Nuestro amigo descubrió un fémur de un dinosaurio no identificado en su última excavación. El fémur mide 6,6 pies de largo.\n",
    "\n",
    "Tu amigo está bastante seguro de que el fémur pertenece a un braquiosaurio o a un fictionosaurio. Mirando los datos graficados, determine a qué dinosaurio es más probable que pertenezca este esqueleto, y guarde su respuesta al dinosaurio variable `mystery_dino`."
   ]
  },
  {
   "cell_type": "code",
   "execution_count": null,
   "metadata": {},
   "outputs": [],
   "source": []
  },
  {
   "cell_type": "markdown",
   "metadata": {},
   "source": [
    "Nuestro amigo descubrió otro fémur. Este fémur tiene 7.5 pies de largo. Obviamente, 7.5 pies está más cerca de la media para un fictionosaurio (7.7 pies), que de la media para un braquiosaurio (6.5 pies).\n",
    "\n",
    "¿Podemos estar absolutamente seguros de que el fémur proviene de un fictionosaurio? Guarde su respuesta (ya sea Verdadero o Falso) para responder."
   ]
  },
  {
   "cell_type": "code",
   "execution_count": null,
   "metadata": {},
   "outputs": [],
   "source": []
  },
  {
   "cell_type": "markdown",
   "metadata": {},
   "source": [
    "¿Cómo le ayudan los histogramas a explicar su respuesta?"
   ]
  },
  {
   "cell_type": "markdown",
   "metadata": {},
   "source": [
    "# Parte II -  Desviacion Stadard y Distribucion Normal"
   ]
  },
  {
   "cell_type": "markdown",
   "metadata": {},
   "source": [
    "El puntaje promedio en los exámenes SAT es de 1000 y la desviación estándar es de 100.\n",
    "\n",
    "Calcule la cantidad que sería una desviación estándar por encima de la media, y guárdela en la variable `one_above`."
   ]
  },
  {
   "cell_type": "code",
   "execution_count": null,
   "metadata": {},
   "outputs": [],
   "source": []
  },
  {
   "cell_type": "markdown",
   "metadata": {},
   "source": [
    "Calcule la cantidad que sería una desviación estándar por debajo de la media y guárdela en la variable `one_below`."
   ]
  },
  {
   "cell_type": "code",
   "execution_count": null,
   "metadata": {},
   "outputs": [],
   "source": []
  },
  {
   "cell_type": "markdown",
   "metadata": {},
   "source": [
    "Imprima los valores de ambas variables"
   ]
  },
  {
   "cell_type": "code",
   "execution_count": null,
   "metadata": {},
   "outputs": [],
   "source": []
  },
  {
   "cell_type": "markdown",
   "metadata": {},
   "source": [
    "2000 estudiantes tomaron el examen. ¿Cuántos esperarían tener puntajes dentro del rango de `one_above` y `one_below`?\n",
    "\n",
    "Guarde su respuesta a la variable `one_std` e imprímala en el terminal."
   ]
  },
  {
   "cell_type": "code",
   "execution_count": null,
   "metadata": {},
   "outputs": [],
   "source": []
  },
  {
   "cell_type": "markdown",
   "metadata": {},
   "source": [
    "# Parte III -  Distribucion binomial y probabilidad\n"
   ]
  },
  {
   "cell_type": "markdown",
   "metadata": {},
   "source": [
    "Enviamos 500 correos electrónicos, con una probabilidad estimada de que 25 personas abrieran el correo electrónico. Y hubo 10.000 trials (personas que probaron el producto). Cree el random binomial"
   ]
  },
  {
   "cell_type": "code",
   "execution_count": null,
   "metadata": {},
   "outputs": [],
   "source": []
  },
  {
   "cell_type": "markdown",
   "metadata": {},
   "source": [
    "¿Cuál es la probabilidad de que nadie abra el correo electrónico? Guardar los resultados en los variable `no_emails`."
   ]
  },
  {
   "cell_type": "code",
   "execution_count": null,
   "metadata": {},
   "outputs": [],
   "source": []
  },
  {
   "cell_type": "markdown",
   "metadata": {},
   "source": [
    "Recientemente contrató a un nuevo socio de marketing que quiere probar dos correos electrónicos (hacer un A/B testing) para ver si la gente responde mejor. \n",
    "\n",
    "¿Cuál es la probabilidad de que el 8% o más de las personas abran el correo electrónico? Guardar los resultados en el variable `b_test_emails`."
   ]
  },
  {
   "cell_type": "code",
   "execution_count": null,
   "metadata": {},
   "outputs": [],
   "source": []
  },
  {
   "cell_type": "markdown",
   "metadata": {},
   "source": [
    "Imprimir las variables `no_emails` y `b_test_emails`"
   ]
  },
  {
   "cell_type": "code",
   "execution_count": null,
   "metadata": {},
   "outputs": [],
   "source": []
  },
  {
   "cell_type": "code",
   "execution_count": null,
   "metadata": {},
   "outputs": [],
   "source": []
  }
 ],
 "metadata": {
  "kernelspec": {
   "display_name": "Python 3",
   "language": "python",
   "name": "python3"
  },
  "language_info": {
   "codemirror_mode": {
    "name": "ipython",
    "version": 3
   },
   "file_extension": ".py",
   "mimetype": "text/x-python",
   "name": "python",
   "nbconvert_exporter": "python",
   "pygments_lexer": "ipython3",
   "version": "3.8.2"
  }
 },
 "nbformat": 4,
 "nbformat_minor": 2
}
