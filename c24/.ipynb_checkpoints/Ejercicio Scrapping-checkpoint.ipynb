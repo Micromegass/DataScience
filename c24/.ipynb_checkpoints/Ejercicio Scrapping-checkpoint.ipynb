{
 "cells": [
  {
   "cell_type": "markdown",
   "metadata": {},
   "source": [
    "# Scrapeando Chocolate!"
   ]
  },
  {
   "cell_type": "markdown",
   "metadata": {},
   "source": [
    "Después de comer barras de chocolate toda tu vida, has decidido ir en busca de la mejor barra de chocolate del mundo.\n",
    "\n",
    "Usted ha encontrado un sitio web que tiene más de 1700 comentarios de barras de chocolate de todo el mundo. Los datos se muestran en esta web: https://s3.amazonaws.com/codecademy-content/courses/beautifulsoup/cacao/index.html\n",
    "\n",
    "Los datos se muestran en una tabla, en lugar de un csv. Afortunadamente, tenemos el poder de BeautifulSoup que nos ayudará a transformar esta página web en un DataFrame que podemos manipular y analizar.\n",
    "\n",
    "La escala de calificación es del 1 al 5, como se describe en esta guía de reviews (http://flavorsofcacao.com/review_guide.html). A1 es \"desagradable\" el chocolate, mientras que 5 es una barra que trasciende \"más allá de los límites ordinarios\".\n",
    "\n",
    "Algunas de las preguntas en las que pensamos cuando encontramos este conjunto de datos fueron: ¿Dónde se cultivan los mejores granos de cacao? ¿Qué países producen las barras de mayor calificación? ¿Cuál es la relación entre el porcentaje de sólidos de cacao y la clasificación?\n",
    "\n",
    "¿Podemos encontrar una manera de responder a estas preguntas, o descubrir más preguntas, usando BeautifulSoup y Pandas?"
   ]
  },
  {
   "cell_type": "markdown",
   "metadata": {},
   "source": [
    "### Haga sopa de chocolate!"
   ]
  },
  {
   "cell_type": "markdown",
   "metadata": {},
   "source": [
    "1. Explore la página web que aparece aqui: https://s3.amazonaws.com/codecademy-content/courses/beautifulsoup/cacao/index.html . ¿Qué elementos podrían ser útiles para escrapear aquí? ¿Qué elementos no queremos escrapear?\n",
    "\n",
    "Si desea utilizar su navegador para inspeccionar el sitio web, es posible que necesite refrescar el concepto en devTools: https://developers.google.com/web/tools/chrome-devtools"
   ]
  },
  {
   "cell_type": "markdown",
   "metadata": {},
   "source": [
    "2. Hagamos una petición a este sitio para obtener el HTML en bruto, que luego podemos convertir en un objeto BeautifulSoup.\n",
    "\n",
    "La URL es: https://s3.amazonaws.com/codecademy-content/courses/beautifulsoup/cacao/index.html\n",
    "\n",
    "Puede pasar esto al método `.get()` del modulo `requests` para obtener el HTML."
   ]
  },
  {
   "cell_type": "code",
   "execution_count": null,
   "metadata": {},
   "outputs": [],
   "source": []
  },
  {
   "cell_type": "markdown",
   "metadata": {},
   "source": [
    "3. Cree un objeto BeautifulSoup llamado `soup` a través de este HTML.\n",
    "Utilice `\"html.parser\"` como el analizador, y el contenido de la respuesta que obtuvo de su solicitud como el documento."
   ]
  },
  {
   "cell_type": "code",
   "execution_count": null,
   "metadata": {},
   "outputs": [],
   "source": []
  },
  {
   "cell_type": "markdown",
   "metadata": {},
   "source": [
    "4. Si lo desea, imprima el objeto `soup` para explorar el HTML.\n",
    "¡Cuánta cantidad de filas! Probablemente esté muy aliviado de que no tengamos que scrapear esta información a mano."
   ]
  },
  {
   "cell_type": "code",
   "execution_count": null,
   "metadata": {},
   "outputs": [],
   "source": []
  },
  {
   "cell_type": "markdown",
   "metadata": {},
   "source": [
    "### ¿Cómo se distribuyen las calificaciones?"
   ]
  },
  {
   "cell_type": "markdown",
   "metadata": {},
   "source": [
    "5. ¿Cuántas barras de chocolate terribles hay ahí fuera? ¿Y cuántos se ganaron un 5 perfecto? Hagamos un histograma de estos datos.\n",
    "\n",
    "Lo primero que hay que hacer es poner todas las clasificaciones en una lista.\n",
    "Utilice un comando en el objeto `soup` para obtener todas las etiquetas que contienen las clasificaciones."
   ]
  },
  {
   "cell_type": "code",
   "execution_count": null,
   "metadata": {},
   "outputs": [],
   "source": []
  },
  {
   "cell_type": "markdown",
   "metadata": {},
   "source": [
    "6. Cree una lista vacía llamada `ratings` para guardar todos los rating alli."
   ]
  },
  {
   "cell_type": "code",
   "execution_count": null,
   "metadata": {},
   "outputs": [],
   "source": []
  },
  {
   "cell_type": "markdown",
   "metadata": {},
   "source": [
    "7. Recorra las etiquetas de clasificación y obtenga el texto contenido en cada una de ellas. Añádelo a la lista de `ratings`.\n",
    "\n",
    "Al hacer esto, convierta la clasificación en un `float`, de modo que la lista de clasificaciones sea numérica. Esto debería ayudar con los cálculos más adelante."
   ]
  },
  {
   "cell_type": "code",
   "execution_count": null,
   "metadata": {},
   "outputs": [],
   "source": []
  },
  {
   "cell_type": "markdown",
   "metadata": {},
   "source": [
    "8. Utilizando Matplotlib, cree un histograma de los valores de los ratings:"
   ]
  },
  {
   "cell_type": "code",
   "execution_count": null,
   "metadata": {},
   "outputs": [],
   "source": []
  },
  {
   "cell_type": "markdown",
   "metadata": {},
   "source": [
    "### ¿Qué chocolatero hace el mejor chocolate?"
   ]
  },
  {
   "cell_type": "markdown",
   "metadata": {},
   "source": [
    "9. Ahora queremos encontrar a los 10 chocolateros más valorados. Una forma de hacerlo es hacer un DataFrame que tenga las empresas chocolateras en una columna y los ratings en otra. Entonces, podemos hacer un grupo para encontrar a los que tengan la puntuación media más alta.\n",
    "\n",
    "Primero, busquemos todas las etiquetas en la página web que contienen los nombres de las empresas."
   ]
  },
  {
   "cell_type": "code",
   "execution_count": null,
   "metadata": {},
   "outputs": [],
   "source": []
  },
  {
   "cell_type": "markdown",
   "metadata": {},
   "source": [
    "10. Al igual que hicimos con los ratings, ahora queremos hacer una lista vacía para guardar los nombres de las empresas. Llamela `company`"
   ]
  },
  {
   "cell_type": "code",
   "execution_count": null,
   "metadata": {},
   "outputs": [],
   "source": []
  },
  {
   "cell_type": "markdown",
   "metadata": {},
   "source": [
    "11. Recorra las etiquetas que contienen nombres de empresas y añada el texto de cada etiqueta a la lista que acaba de crear."
   ]
  },
  {
   "cell_type": "code",
   "execution_count": null,
   "metadata": {},
   "outputs": [],
   "source": []
  },
  {
   "cell_type": "markdown",
   "metadata": {},
   "source": [
    "\n"
   ]
  }
 ],
 "metadata": {
  "kernelspec": {
   "display_name": "Python 3",
   "language": "python",
   "name": "python3"
  },
  "language_info": {
   "codemirror_mode": {
    "name": "ipython",
    "version": 3
   },
   "file_extension": ".py",
   "mimetype": "text/x-python",
   "name": "python",
   "nbconvert_exporter": "python",
   "pygments_lexer": "ipython3",
   "version": "3.8.2"
  }
 },
 "nbformat": 4,
 "nbformat_minor": 2
}
