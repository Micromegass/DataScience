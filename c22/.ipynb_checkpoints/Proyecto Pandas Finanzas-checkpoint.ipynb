{
 "cells": [
  {
   "cell_type": "markdown",
   "metadata": {},
   "source": [
    "# La salud financiera de los Estados Unidos\n",
    "\n",
    "En este proyecto, importaremos varios tipos de datos financieros para tratar de determinar la salud financiera y la volatilidad de los EE.UU. entre 1999 y 2019.\n",
    "\n",
    "Utilizaremos las técnicas que hemos aprendido para importar datos financieros, para importar datos de las acciones y precios de productos básicos (commodities) desde archivos csv y la API del FRED. Luego tomaremos los datos del PIB y la exportación de bienes y servicios de la API del Banco Mundial.\n",
    "\n",
    "Finalmente, encontraremos los registros de los datos importados, y los usaremos para determinar la volatilidad de los datos durante el período de 20 años.\n",
    "\n",
    "Comencemos!\n",
    "\n",
    "## Importando los precios de los productos básicos\n",
    "\n",
    "1. Importe pandas primero"
   ]
  },
  {
   "cell_type": "code",
   "execution_count": 1,
   "metadata": {},
   "outputs": [],
   "source": [
    "import pandas as pd"
   ]
  },
  {
   "cell_type": "markdown",
   "metadata": {},
   "source": [
    "2. Ahora que pandas estan importado, use su función `read_csv` para importar datos del archivo gold_prices.csv en una variable llamada gold_prices.\n",
    "\n",
    "Luego imprime el DataFrame de los precios del oro y míralo."
   ]
  },
  {
   "cell_type": "code",
   "execution_count": 3,
   "metadata": {},
   "outputs": [],
   "source": [
    "gold_prices = pd.read_csv('gold_prices.csv')"
   ]
  },
  {
   "cell_type": "markdown",
   "metadata": {},
   "source": [
    "3. Ahora hagamos lo mismo con los datos del petróleo crudo.\n",
    "\n",
    "Importar los datos históricos en crude_oil_prices.csv en una variable llamada `crude_oil_prices`.\n",
    "\n",
    "Luego imprímelos y míralos también."
   ]
  },
  {
   "cell_type": "code",
   "execution_count": null,
   "metadata": {},
   "outputs": [],
   "source": []
  },
  {
   "cell_type": "markdown",
   "metadata": {},
   "source": [
    "## Importando los precios de las acciones\n",
    "\n",
    "4. Hemos importado los precios de los productos básicos de sus archivos csv, ahora nos centraremos en los precios históricos de las acciones.\n",
    "\n",
    "El lector de datos de Pandas es capaz de importar datos de precios de acciones desde la API de FRED usando la biblioteca `pandas_datareader.data`.\n",
    "\n",
    "Importe `pandas_datareader.data as web`."
   ]
  },
  {
   "cell_type": "code",
   "execution_count": null,
   "metadata": {},
   "outputs": [],
   "source": []
  },
  {
   "cell_type": "markdown",
   "metadata": {},
   "source": [
    "5. ¿Como sólo queremos datos entre 1999 y 2019, también queremos crear algunas variables de inicio y final.\n",
    "\n",
    "Importar el módulo de fecha-hora y crear dos fechas-horas, inicio y final, que representan el 1 de enero de 1999 y 2019 respectivamente.\n"
   ]
  },
  {
   "cell_type": "code",
   "execution_count": null,
   "metadata": {},
   "outputs": [],
   "source": []
  },
  {
   "cell_type": "markdown",
   "metadata": {},
   "source": [
    "6. Podemos usar la función `web.DataReader` para obtener los precios históricos del NASDAQ 100 del FRED API.\n",
    "\n",
    "El web.DataReader toma 4 argumentos:\n",
    "\n",
    "- Código de identificación de datos (NASDAQ100)\n",
    "- El nombre de la API que queremos llamar (fred)\n",
    "- Horas de la fecha de inicio y fin\n",
    "- Llama al web.DataReader con los argumentos apropiados, y almacena el DataFrame resultante en una variable llamada `nasdaq_data`. Luego imprímelo y mira los resultados."
   ]
  },
  {
   "cell_type": "code",
   "execution_count": null,
   "metadata": {},
   "outputs": [],
   "source": []
  },
  {
   "cell_type": "markdown",
   "metadata": {},
   "source": [
    "7. El API del FRED también almacena datos del Índice S&P 500. Vamos a importar eso también.\n",
    "\n",
    "Llama al web.DataReader como en el paso anterior, excepto que cambia el código de identificación de datos de NASDAQ100 a SP500.\n",
    "\n",
    "Almacena los resultados en una variable llamada sap_data e imprímela."
   ]
  },
  {
   "cell_type": "code",
   "execution_count": null,
   "metadata": {},
   "outputs": [],
   "source": []
  },
  {
   "cell_type": "markdown",
   "metadata": {},
   "source": [
    "## Importando datos del Banco Mundial\n",
    "\n",
    "8. Además de los precios de las acciones y los productos básicos, también queremos importar más datos económicos de alto nivel como el PIB y el valor total de los bienes y servicios exportados en un año determinado.\n",
    "\n",
    "Afortunadamente para nosotros, la API del Banco Mundial sigue exactamente estas cosas.\n",
    "\n",
    "Importemos el sub-módulo del Banco Mundial de datos de pandas.\n",
    "\n",
    "Importar `pandas_datareader.wb as wb`."
   ]
  },
  {
   "cell_type": "code",
   "execution_count": null,
   "metadata": {},
   "outputs": [],
   "source": []
  },
  {
   "cell_type": "markdown",
   "metadata": {},
   "source": [
    "9. Podemos usar la función wb.download para obtener los datos del PIB del API del Banco Mundial.\n",
    "\n",
    "wb.download toma 4 argumentos:\n",
    "\n",
    "Un indicador de datos (NY.GDP.MKTP.CD)\n",
    "Una lista de países para obtener datos de\n",
    "Horas de inicio y fin de la cita\n",
    "\n",
    "Una llamada se vería como algo así:\n",
    "\n",
    "`wb.download(indicator='INDICATOR', country=['US'], start=start, end=end)`\n",
    "\n",
    "Llama a `wb.download` con los argumentos apropiados, y almacena el DataFrame resultante en una variable llamada gdp_data."
   ]
  },
  {
   "cell_type": "code",
   "execution_count": null,
   "metadata": {},
   "outputs": [],
   "source": []
  },
  {
   "cell_type": "code",
   "execution_count": null,
   "metadata": {},
   "outputs": [],
   "source": []
  },
  {
   "cell_type": "markdown",
   "metadata": {},
   "source": [
    "10. La API del Banco Mundial también almacena datos sobre el valor de los bienes y servicios exportados en un año determinado. Importemos eso también.\n",
    "\n",
    "Llama a wb.download como en el paso anterior, excepto que cambia el indicador de NY.GDP.MKTP.CD a NE.EXP.GNFS.CN.\n",
    "\n",
    "Almacena los resultados en una variable llamada export_data e imprímela."
   ]
  },
  {
   "cell_type": "code",
   "execution_count": null,
   "metadata": {},
   "outputs": [],
   "source": []
  },
  {
   "cell_type": "code",
   "execution_count": null,
   "metadata": {},
   "outputs": [],
   "source": []
  },
  {
   "cell_type": "markdown",
   "metadata": {},
   "source": [
    "## Calculando el retorno Logarítmico\n",
    "\n",
    "El retorno Logarítmico es uno de los tres métodos para calcular el retorno y asume que los retornos se componen continuamente en lugar de a través de subperíodos. Se calcula tomando el logaritmo natural del valor final dividido por el valor inicial. \n",
    "\n",
    "Como ejemplo, digamos que el valor final de una inversión fue de 11 dólares y el valor inicial fue de 10 dólares. La función diría =LN(11/10) para un resultado de 9,53%.\n",
    "\n",
    "En matemáticas y estadística, a menudo se hace una distinción entre datos discretos y continuos. El retorno del registro es la versión continua más teórica. En el mundo práctico, sin embargo, la mayoría de la gente piensa en retornos divididos en períodos discretos.\n",
    "\n",
    "- Retorno aritmético - Un período, no compuesto, discreto.\n",
    "- Retorno geométrico - Multi-período, compuesto, discreto.\n",
    "- Retorno logarítmico: períodos infinitos, compuestos, continuos.\n",
    "\n",
    "Así que el retorno logarítmico es la versión no discreta, tan continua, lo que significa que si todo el período se dividiera en un número infinito de períodos, ¿cuál sería ese retorno? Verás, es teórico.\n",
    "\n",
    "Salvo para períodos de tiempo muy cortos (menos de un día), y para aplicaciones teóricas que impliquen cálculo y medición precisa de curvas, los retornos logarítmicos no se utilizan comúnmente.\n",
    "\n",
    "11. En este momento, hemos importado todos los datos que necesitamos. Pero todos están almacenados como cantidades diarias o anuales de dólares.\n",
    "\n",
    "Los datos de precios son útiles, pero en este caso, ya que queremos comparar cada conjunto de datos, sería aún mejor si en lugar de los precios diarios/anuales, tuviéramos información sobre los retornos de los precios diarios/anuales.\n",
    "\n",
    "Como primer paso, definamos una función llamada `log_return`, que debería aceptar un parámetro, los precios. Puede dejar el cuerpo de la función vacío por ahora."
   ]
  },
  {
   "cell_type": "code",
   "execution_count": null,
   "metadata": {},
   "outputs": [],
   "source": []
  },
  {
   "cell_type": "markdown",
   "metadata": {},
   "source": [
    "12. La ecuación para calcular el retorno logarítmico entre dos precios es la siguiente:\n",
    "\n",
    "`natural_log(precio actual/precio anterior)`\n",
    "\n",
    "En nuestro caso queremos ejecutar esta ecuación para cada día/año de datos de precios en nuestra serie importada de DataFrame (la serie A es una sola columna en un DataFrame).\n",
    "\n",
    "La función de desplazamiento de pandas (`sifth()`) puede utilizarse para dividir cada precio actual por su precio anterior en la Serie.\n",
    "\n",
    "`prices / prices.shift(1)`\n",
    "\n",
    "Y podemos usar la función de logaritmo natural de Numpy para obtener el retorno de logaritmo para cada entrada en la nueva Serie.\n",
    "\n",
    "```\n",
    "import numpy as np\n",
    "np.log(Series)\n",
    "```\n",
    "\n",
    "Utilizando esta información, rellene el código de la función `log_return` (asegúrese de importar numpy en la parte superior de la celda)."
   ]
  },
  {
   "cell_type": "code",
   "execution_count": null,
   "metadata": {},
   "outputs": [],
   "source": []
  },
  {
   "cell_type": "markdown",
   "metadata": {},
   "source": [
    "13. Usemos nuestra nueva función `log_return` para calcular el retorno logarítmico del DataFrame de precios del oro que hemos importado.\n",
    "\n",
    "Crear una variable llamada `gold_returns`, que almacena el resultado de llamar a l`og_return` en la columna `Gold_Price` del DataFrame de `gold_prices`."
   ]
  },
  {
   "cell_type": "code",
   "execution_count": null,
   "metadata": {},
   "outputs": [],
   "source": []
  },
  {
   "cell_type": "code",
   "execution_count": null,
   "metadata": {},
   "outputs": [],
   "source": []
  },
  {
   "cell_type": "markdown",
   "metadata": {},
   "source": [
    "14. Ahora crea variables de retorno de logaritmo para cada conjunto de datos adicionales (`crudeoil_returns`, `sap_returns`, etc.).\n",
    "\n",
    "Recuerde que sólo tiene que pasar en la columna del DataFrame que contiene los datos de precios. En el caso del oro era `gold_prices['Precio_del_oro']`, pero el nombre de la columna variará para cada conjunto de datos."
   ]
  },
  {
   "cell_type": "code",
   "execution_count": null,
   "metadata": {},
   "outputs": [],
   "source": []
  },
  {
   "cell_type": "markdown",
   "metadata": {},
   "source": [
    "## Comparación de la volatilidad de retorno\n",
    "\n",
    "15. Ahora estamos listos para comparar la volatilidad de cada tipo de datos.\n",
    "\n",
    "La varianza, en el contexto de los datos financieros, nos dice cuán volátil es una inversión. Utiliza la función var() de Pandas para calcular la varianza de los rendimientos de las materias primas, las acciones y los datos del Banco Mundial, e imprime los resultados.\n",
    "\n",
    "Los resultados pueden interpretarse de varias maneras, pero en general, cuanto mayor sea la varianza, más volátiles serán los datos.\n",
    "\n",
    "¿Qué conclusiones se pueden sacar de estos datos? ¿Qué conjunto de datos fue el más volátil? ¿Algunos conjuntos de datos tenían varianzas similares?\n",
    "\n",
    "sap seria: sap: 8.860342194008153e-05 which is equivalent to 0.00008860342194008153"
   ]
  },
  {
   "cell_type": "code",
   "execution_count": null,
   "metadata": {},
   "outputs": [],
   "source": []
  },
  {
   "cell_type": "code",
   "execution_count": null,
   "metadata": {},
   "outputs": [],
   "source": []
  },
  {
   "cell_type": "code",
   "execution_count": null,
   "metadata": {},
   "outputs": [],
   "source": []
  },
  {
   "cell_type": "code",
   "execution_count": null,
   "metadata": {},
   "outputs": [],
   "source": []
  },
  {
   "cell_type": "code",
   "execution_count": null,
   "metadata": {},
   "outputs": [],
   "source": []
  },
  {
   "cell_type": "code",
   "execution_count": null,
   "metadata": {},
   "outputs": [],
   "source": []
  },
  {
   "cell_type": "markdown",
   "metadata": {},
   "source": [
    "El S&P 500, un conjunto de 500 grandes empresas que cotizan en las bolsas de los Estados Unidos, tiene la menor variación, y por lo tanto es el menos volátil. Dado que el índice S&P 500 es una medida ponderada de muchas acciones en una variedad de industrias, se considera una inversión más segura y diversificada.\n",
    "\n",
    "El oro, notorio por ser una inversión estable, tiene la segunda varianza más pequeña.\n",
    "\n",
    "El petróleo crudo es el más volátil, lo que tiene sentido ya que los precios del gas son a menudo impredecibles, especialmente en los últimos 20 años.\n",
    "\n",
    "Las acciones son interesantes. El NASDAQ 100 es más volátil que el S&P 500, lo que, cuando se piensa en ello tiene sentido, ya que el S&P 500 está mucho más diversificado y sigue más de cerca el mercado.\n",
    "\n",
    "Entonces finalmente tenemos el PIB y las exportaciones.\n",
    "\n",
    "Las exportaciones son muy volátiles, lo que podría tener que ver con las industrias que se han trasladado al extranjero en los últimos 20 años, y la competencia mundial por la producción de bienes.\n",
    "\n",
    "El PIB es en realidad bastante similar al NASDAQ 100 en términos de volatilidad, lo que quizás sea una correlación interesante."
   ]
  },
  {
   "cell_type": "code",
   "execution_count": null,
   "metadata": {},
   "outputs": [],
   "source": []
  }
 ],
 "metadata": {
  "kernelspec": {
   "display_name": "Python 3",
   "language": "python",
   "name": "python3"
  },
  "language_info": {
   "codemirror_mode": {
    "name": "ipython",
    "version": 3
   },
   "file_extension": ".py",
   "mimetype": "text/x-python",
   "name": "python",
   "nbconvert_exporter": "python",
   "pygments_lexer": "ipython3",
   "version": "3.8.2"
  }
 },
 "nbformat": 4,
 "nbformat_minor": 4
}
