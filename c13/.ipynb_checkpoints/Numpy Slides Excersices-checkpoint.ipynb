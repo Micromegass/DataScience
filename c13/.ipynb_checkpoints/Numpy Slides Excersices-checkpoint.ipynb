{
 "cells": [
  {
   "cell_type": "code",
   "execution_count": 2,
   "metadata": {},
   "outputs": [],
   "source": [
    "import numpy as np"
   ]
  },
  {
   "cell_type": "markdown",
   "metadata": {},
   "source": [
    "# 1- Primer Ejercicio"
   ]
  },
  {
   "cell_type": "markdown",
   "metadata": {},
   "source": [
    "Te han pedido que juzgues el festival anual de calabazas de tu ciudad. El organizador del festival te da una lista que incluye todos los pesos de las dos competiciones que estás juzgando: calabazas y calabazas de bellota."
   ]
  },
  {
   "cell_type": "code",
   "execution_count": 3,
   "metadata": {},
   "outputs": [],
   "source": [
    "pumpkin = np.array([68, 1820, 1420, 2062, 704, 1156, 1857, 1755, 2092, 1384])\n",
    "\n",
    "acorn_squash = np.array([20, 43, 99, 200, 12, 250, 58, 120, 230, 215])"
   ]
  },
  {
   "cell_type": "markdown",
   "metadata": {},
   "source": [
    "Dados los dos conjuntos de datos en la parte superior, busque el peso promedio para cada competencia y guárdelos en las variables `pumpkin_avg` y `acorn_squash_avg`."
   ]
  },
  {
   "cell_type": "code",
   "execution_count": 11,
   "metadata": {},
   "outputs": [
    {
     "name": "stdout",
     "output_type": "stream",
     "text": [
      "1431.8\n"
     ]
    },
    {
     "data": {
      "text/plain": [
       "124.7"
      ]
     },
     "execution_count": 11,
     "metadata": {},
     "output_type": "execute_result"
    }
   ],
   "source": [
    "pumpkin_avg = np.mean(pumpkin)\n",
    "print(pumpkin_avg)\n",
    "acorn_squash_avg = np.mean(acorn_squash)\n",
    "acorn_squash_avg"
   ]
  },
  {
   "cell_type": "markdown",
   "metadata": {},
   "source": [
    "Ahora, el resto de los jueces quieren que les des una idea de lo representativos que son los valores medios en relación con la totalidad de las presentaciones. Calcule la desviación estándar para cada uno de los conjuntos de datos a buscar y guárdelos en las variables `pumpkin_std` y `acorn_squash_std`. Imprímelos en la consola para ver sus valores."
   ]
  },
  {
   "cell_type": "code",
   "execution_count": 21,
   "metadata": {},
   "outputs": [
    {
     "name": "stdout",
     "output_type": "stream",
     "text": [
      "[  68 1820 1420 2062  704 1156 1857 1755 2092 1384]\n",
      "Desaviacion estandard de pumpkin es: 611.3183785884406\n",
      "[ 20  43  99 200  12 250  58 120 230 215]\n",
      "Desaviacion estandard de acron squash es: 87.22505374031019\n"
     ]
    }
   ],
   "source": [
    "pumpkin_std = np.std(pumpkin)\n",
    "print(pumpkin)\n",
    "print(f\"Desaviacion estandard de pumpkin es: {pumpkin_std}\")\n",
    "\n",
    "acorn_squash_std = np.std(acorn_squash)\n",
    "print(acorn_squash)\n",
    "print(f\"Desaviacion estandard de acron squash es: {acorn_squash_std}\")\n"
   ]
  },
  {
   "cell_type": "markdown",
   "metadata": {},
   "source": [
    "Determine el conjunto de datos de squash que tiene la mayor desviación estándar y guárdelo en la variable `winner`."
   ]
  },
  {
   "cell_type": "code",
   "execution_count": 25,
   "metadata": {},
   "outputs": [
    {
     "name": "stdout",
     "output_type": "stream",
     "text": [
      "el ganador es niki jam y: ('pumpkin', 611.3183785884406)\n"
     ]
    }
   ],
   "source": [
    "def winner():\n",
    "    winner = \"pumpkin\" if pumpkin_std > acorn_squash_std else \"acron squash\"\n",
    "    winner_std = pumpkin_std if pumpkin_std > acorn_squash_std else acorn_squash_std\n",
    "    return winner, winner_std\n",
    "\n",
    "winner, winner_std = winner()\n",
    "print(f\"el ganador es niki jam y: {x} with \")"
   ]
  },
  {
   "cell_type": "markdown",
   "metadata": {},
   "source": [
    "# 2- Segundo Ejercicio"
   ]
  },
  {
   "cell_type": "markdown",
   "metadata": {},
   "source": [
    "Un grupo de científicos ciudadanos ha estado recolectando datos sobre las precipitaciones en Seattle. Ellos le han presentado sus datos en forma de promedios mensuales, medidos en pulgadas."
   ]
  },
  {
   "cell_type": "code",
   "execution_count": null,
   "metadata": {},
   "outputs": [],
   "source": []
  },
  {
   "cell_type": "markdown",
   "metadata": {},
   "source": [
    "Encuentre la media del array `rainfall` y guárdela en la variable `rain_mean`."
   ]
  },
  {
   "cell_type": "code",
   "execution_count": null,
   "metadata": {},
   "outputs": [],
   "source": []
  },
  {
   "cell_type": "markdown",
   "metadata": {},
   "source": [
    "Encuentra la mediana del array y guárdala en la variable `rain_median`."
   ]
  },
  {
   "cell_type": "code",
   "execution_count": null,
   "metadata": {},
   "outputs": [],
   "source": []
  },
  {
   "cell_type": "markdown",
   "metadata": {},
   "source": [
    "Encuentra los percentiles 25 y 75 del array de precipitaciones original y guárdalos en las variables `first_quarter` y `third_quarter` respectivamente. "
   ]
  },
  {
   "cell_type": "code",
   "execution_count": null,
   "metadata": {},
   "outputs": [],
   "source": []
  },
  {
   "cell_type": "markdown",
   "metadata": {},
   "source": [
    "Calcule el rango intercuartil y guárdelo en la variable `intercuartil_range`."
   ]
  },
  {
   "cell_type": "code",
   "execution_count": null,
   "metadata": {},
   "outputs": [],
   "source": []
  },
  {
   "cell_type": "markdown",
   "metadata": {},
   "source": [
    "Determine la desviación estándar del set y guárdela en el variable `rain_std`."
   ]
  },
  {
   "cell_type": "code",
   "execution_count": null,
   "metadata": {},
   "outputs": [],
   "source": []
  },
  {
   "cell_type": "markdown",
   "metadata": {},
   "source": [
    "Imprima las variables para ver los resultados."
   ]
  },
  {
   "cell_type": "code",
   "execution_count": null,
   "metadata": {},
   "outputs": [],
   "source": []
  },
  {
   "cell_type": "code",
   "execution_count": null,
   "metadata": {},
   "outputs": [],
   "source": []
  }
 ],
 "metadata": {
  "kernelspec": {
   "display_name": "Python 3",
   "language": "python",
   "name": "python3"
  },
  "language_info": {
   "codemirror_mode": {
    "name": "ipython",
    "version": 3
   },
   "file_extension": ".py",
   "mimetype": "text/x-python",
   "name": "python",
   "nbconvert_exporter": "python",
   "pygments_lexer": "ipython3",
   "version": "3.8.2"
  }
 },
 "nbformat": 4,
 "nbformat_minor": 2
}
