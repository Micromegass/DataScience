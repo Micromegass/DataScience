{
 "cells": [
  {
   "cell_type": "code",
   "execution_count": 49,
   "metadata": {},
   "outputs": [],
   "source": [
    "import numpy as np"
   ]
  },
  {
   "cell_type": "markdown",
   "metadata": {},
   "source": [
    "# 1- Primer Ejercicio"
   ]
  },
  {
   "cell_type": "markdown",
   "metadata": {},
   "source": [
    "Te han pedido que juzgues el festival anual de calabazas de tu ciudad. El organizador del festival te da una lista que incluye todos los pesos de las dos competiciones que estás juzgando: calabazas y calabazas de bellota."
   ]
  },
  {
   "cell_type": "code",
   "execution_count": 50,
   "metadata": {},
   "outputs": [],
   "source": [
    "pumpkin = np.array([68, 1820, 1420, 2062, 704, 1156, 1857, 1755, 2092, 1384])\n",
    "\n",
    "acorn_squash = np.array([20, 43, 99, 200, 12, 250, 58, 120, 230, 215])"
   ]
  },
  {
   "cell_type": "markdown",
   "metadata": {},
   "source": [
    "Dados los dos conjuntos de datos en la parte superior, busque el peso promedio para cada competencia y guárdelos en las variables `pumpkin_avg` y `acorn_squash_avg`."
   ]
  },
  {
   "cell_type": "code",
   "execution_count": 51,
   "metadata": {},
   "outputs": [
    {
     "name": "stdout",
     "output_type": "stream",
     "text": [
      "1431.8\n"
     ]
    },
    {
     "data": {
      "text/plain": [
       "124.7"
      ]
     },
     "execution_count": 51,
     "metadata": {},
     "output_type": "execute_result"
    }
   ],
   "source": [
    "pumpkin_avg = np.mean(pumpkin)\n",
    "print(pumpkin_avg)\n",
    "acorn_squash_avg = np.mean(acorn_squash)\n",
    "acorn_squash_avg"
   ]
  },
  {
   "cell_type": "markdown",
   "metadata": {},
   "source": [
    "Ahora, el resto de los jueces quieren que les des una idea de lo representativos que son los valores medios en relación con la totalidad de las presentaciones. Calcule la desviación estándar para cada uno de los conjuntos de datos a buscar y guárdelos en las variables `pumpkin_std` y `acorn_squash_std`. Imprímelos en la consola para ver sus valores."
   ]
  },
  {
   "cell_type": "code",
   "execution_count": 63,
   "metadata": {},
   "outputs": [
    {
     "name": "stdout",
     "output_type": "stream",
     "text": [
      "[  68 1820 1420 2062  704 1156 1857 1755 2092 1384]\n",
      "Desaviacion estandard de pumpkin es: 611.3183785884406\n",
      "----------------------------------------------------------------------------------------------------\n",
      "[ 20  43  99 200  12 250  58 120 230 215]\n",
      "Desaviacion estandard de acron squash es: 87.22505374031019\n"
     ]
    }
   ],
   "source": [
    "pumpkin_std = np.std(pumpkin)\n",
    "print(pumpkin)\n",
    "print(f\"Desaviacion estandard de pumpkin es: {pumpkin_std}\")\n",
    "\n",
    "print(100*\"-\")\n",
    "\n",
    "acorn_squash_std = np.std(acorn_squash)\n",
    "print(acorn_squash)\n",
    "print(f\"Desaviacion estandard de acron squash es: {acorn_squash_std}\")\n"
   ]
  },
  {
   "cell_type": "markdown",
   "metadata": {},
   "source": [
    "Determine el conjunto de datos de squash que tiene la mayor desviación estándar y guárdelo en la variable `winner`."
   ]
  },
  {
   "cell_type": "code",
   "execution_count": 65,
   "metadata": {},
   "outputs": [
    {
     "name": "stdout",
     "output_type": "stream",
     "text": [
      "el ganador es niki jam y: pumpkin, with std 611.3183785884406\n"
     ]
    }
   ],
   "source": [
    "def winner():\n",
    "    winner = \"pumpkin\" if pumpkin_std > acorn_squash_std else \"acron squash\"\n",
    "    winner_std = pumpkin_std if pumpkin_std > acorn_squash_std else acorn_squash_std\n",
    "    return winner, winner_std\n",
    "\n",
    "winner, winner_std = winner()\n",
    "print(f\"el ganador es niki jam y: {winner}, with std {winner_std}\")"
   ]
  },
  {
   "cell_type": "markdown",
   "metadata": {},
   "source": [
    "# 2- Segundo Ejercicio"
   ]
  },
  {
   "cell_type": "markdown",
   "metadata": {},
   "source": [
    "Un grupo de científicos ciudadanos ha estado recolectando datos sobre las precipitaciones en Seattle. Ellos le han presentado sus datos en forma de promedios mensuales, medidos en pulgadas."
   ]
  },
  {
   "cell_type": "code",
   "execution_count": 54,
   "metadata": {},
   "outputs": [],
   "source": [
    "##\n",
    "##Month\tPrecipitation\n",
    "#Jan\t5.24in.\n",
    "#Feb\t4.09in.\n",
    "#Mar\t3.92in.\n",
    "#Apr\t2.75in.\n",
    "#May\t2.03in.\n",
    "#Jun\t1.55in.\n",
    "#Jul\t0.93in.\n",
    "#Aug\t1.16in.\n",
    "#Sep .61in.\n",
    "#Oct\t3.24in.\n",
    "#Nov\t5.67in.\n",
    "#Dec\t6.06in.\n",
    "\n",
    "rainfall = np.array([5.24, 4.09, 3.92, 2.75, 2.03, 1.55, 0.93, 1.16, 0.61, 3.24, 5.67, 6.06])"
   ]
  },
  {
   "cell_type": "markdown",
   "metadata": {},
   "source": [
    "Encuentre la media del array `rainfall` y guárdela en la variable `rain_mean`."
   ]
  },
  {
   "cell_type": "code",
   "execution_count": 55,
   "metadata": {},
   "outputs": [
    {
     "name": "stdout",
     "output_type": "stream",
     "text": [
      "3.1041666666666674\n"
     ]
    }
   ],
   "source": [
    "rain_mean = np.mean(rainfall)\n",
    "print(rain_mean)"
   ]
  },
  {
   "cell_type": "markdown",
   "metadata": {},
   "source": [
    "Encuentra la mediana del array y guárdala en la variable `rain_median`."
   ]
  },
  {
   "cell_type": "code",
   "execution_count": 56,
   "metadata": {},
   "outputs": [
    {
     "name": "stdout",
     "output_type": "stream",
     "text": [
      "2.995\n"
     ]
    }
   ],
   "source": [
    "rain_median = np.median(rainfall)\n",
    "print(rain_median)"
   ]
  },
  {
   "cell_type": "markdown",
   "metadata": {},
   "source": [
    "Encuentra los percentiles 25 y 75 del array de precipitaciones original y guárdalos en las variables `first_quarter` y `third_quarter` respectivamente. "
   ]
  },
  {
   "cell_type": "code",
   "execution_count": 57,
   "metadata": {},
   "outputs": [
    {
     "name": "stdout",
     "output_type": "stream",
     "text": [
      "1.4525000000000001\n",
      "4.3774999999999995\n"
     ]
    }
   ],
   "source": [
    "first_quarter = np.percentile(rainfall, 25)\n",
    "print(first_quarter)\n",
    "\n",
    "third_quarter = np.percentile(rainfall, 75)\n",
    "print(third_quarter)"
   ]
  },
  {
   "cell_type": "markdown",
   "metadata": {},
   "source": [
    "Calcule el rango intercuartil y guárdelo en la variable `intercuartil_range`."
   ]
  },
  {
   "cell_type": "code",
   "execution_count": 58,
   "metadata": {},
   "outputs": [
    {
     "name": "stdout",
     "output_type": "stream",
     "text": [
      "Interquartil range es: 2.9249999999999994\n"
     ]
    }
   ],
   "source": [
    "intercuartil_range = third_quarter - first_quarter\n",
    "print(f\"Interquartil range es: {intercuartil_range}\")"
   ]
  },
  {
   "cell_type": "markdown",
   "metadata": {},
   "source": [
    "Determine la desviación estándar del set y guárdela en el variable `rain_std`."
   ]
  },
  {
   "cell_type": "code",
   "execution_count": 59,
   "metadata": {},
   "outputs": [
    {
     "name": "stdout",
     "output_type": "stream",
     "text": [
      "1.8248399853746688\n"
     ]
    }
   ],
   "source": [
    "rain_std = np.std(rainfall)\n",
    "print(rain_std)"
   ]
  },
  {
   "cell_type": "markdown",
   "metadata": {},
   "source": [
    "Imprima las variables para ver los resultados."
   ]
  },
  {
   "cell_type": "code",
   "execution_count": 60,
   "metadata": {},
   "outputs": [
    {
     "name": "stdout",
     "output_type": "stream",
     "text": [
      "\n",
      "La media es 3.1041666666666674 \n",
      "\n",
      "El median es 2.995 \n",
      "\n",
      "El primer cuartil es 1.4525000000000001 \n",
      "\n",
      "El tercer cuartil es 4.3774999999999995 \n",
      "\n",
      "El rango intercuartil es 2.9249999999999994 \n",
      "\n",
      "La desviación estándar es 1.8248399853746688\n",
      "\n"
     ]
    }
   ],
   "source": [
    "results = f\"\"\"\n",
    "La media es {rain_mean} \\n\n",
    "El median es {rain_median} \\n\n",
    "El primer cuartil es {first_quarter} \\n\n",
    "El tercer cuartil es {third_quarter} \\n\n",
    "El rango intercuartil es {intercuartil_range} \\n\n",
    "La desviación estándar es {rain_std}\n",
    "\"\"\"\n",
    "\n",
    "print(results)"
   ]
  },
  {
   "cell_type": "code",
   "execution_count": null,
   "metadata": {},
   "outputs": [],
   "source": []
  },
  {
   "cell_type": "code",
   "execution_count": null,
   "metadata": {},
   "outputs": [],
   "source": []
  },
  {
   "cell_type": "code",
   "execution_count": null,
   "metadata": {},
   "outputs": [],
   "source": []
  },
  {
   "cell_type": "code",
   "execution_count": null,
   "metadata": {},
   "outputs": [],
   "source": []
  }
 ],
 "metadata": {
  "kernelspec": {
   "display_name": "Python 3",
   "language": "python",
   "name": "python3"
  },
  "language_info": {
   "codemirror_mode": {
    "name": "ipython",
    "version": 3
   },
   "file_extension": ".py",
   "mimetype": "text/x-python",
   "name": "python",
   "nbconvert_exporter": "python",
   "pygments_lexer": "ipython3",
   "version": "3.8.2"
  }
 },
 "nbformat": 4,
 "nbformat_minor": 2
}
