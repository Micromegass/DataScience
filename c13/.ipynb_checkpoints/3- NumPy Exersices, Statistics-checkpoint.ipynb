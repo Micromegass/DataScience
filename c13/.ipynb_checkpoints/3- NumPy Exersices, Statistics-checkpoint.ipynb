{
 "cells": [
  {
   "cell_type": "markdown",
   "metadata": {},
   "source": [
    "# NumPy Exersices, Statistics"
   ]
  },
  {
   "cell_type": "markdown",
   "metadata": {},
   "source": [
    "Usted trabaja en una compañia de comidas (cereales) que esta desarrollando un nuevo producto. Su empresa quiere demostrar que tan saludable es el producto en comparacion a otras marcas y usted ha entrado a trabajar sobre los datos nutricionales de su marca. \n",
    "\n",
    "Tu trabajo es usar calculos estadisticos con NumPy para analizar esta data y probar que ustedes son mas saludables que la competencia. "
   ]
  },
  {
   "cell_type": "markdown",
   "metadata": {},
   "source": [
    "### 1- Importa Numpy"
   ]
  },
  {
   "cell_type": "code",
   "execution_count": 2,
   "metadata": {},
   "outputs": [],
   "source": [
    "import numpy as np"
   ]
  },
  {
   "cell_type": "markdown",
   "metadata": {},
   "source": [
    "Hemos creado un archivo csv llamado `cereal.csv`, vaya al link y carguelo en su entorno virtual. Este archivo contiene las calorias de los diferentes cereales de la competencia\n",
    "\n",
    "### 2- Cargue el archivo y guardelo como `calorie_stats`"
   ]
  },
  {
   "cell_type": "code",
   "execution_count": 4,
   "metadata": {},
   "outputs": [
    {
     "ename": "NameError",
     "evalue": "name 'cereal' is not defined",
     "output_type": "error",
     "traceback": [
      "\u001b[0;31m---------------------------------------------------------------------------\u001b[0m",
      "\u001b[0;31mNameError\u001b[0m                                 Traceback (most recent call last)",
      "\u001b[0;32m<ipython-input-4-224013b8e0ea>\u001b[0m in \u001b[0;36m<module>\u001b[0;34m\u001b[0m\n\u001b[0;32m----> 1\u001b[0;31m \u001b[0mcereals\u001b[0m \u001b[0;34m=\u001b[0m \u001b[0mnp\u001b[0m\u001b[0;34m.\u001b[0m\u001b[0mgenfromtxt\u001b[0m\u001b[0;34m(\u001b[0m\u001b[0mcereal\u001b[0m\u001b[0;34m.\u001b[0m\u001b[0mcsv\u001b[0m\u001b[0;34m,\u001b[0m \u001b[0mdelimiter\u001b[0m\u001b[0;34m=\u001b[0m\u001b[0;34m','\u001b[0m\u001b[0;34m)\u001b[0m\u001b[0;34m\u001b[0m\u001b[0;34m\u001b[0m\u001b[0m\n\u001b[0m",
      "\u001b[0;31mNameError\u001b[0m: name 'cereal' is not defined"
     ]
    }
   ],
   "source": [
    "cereals = np.genfromtxt(cereal.csv, delimiter=',')"
   ]
  },
  {
   "cell_type": "markdown",
   "metadata": {},
   "source": [
    "### 3- Nuestro producto tiene 60 calorias. Cual es el promedio de calorias de la competencia? Guarde la respuesta en una variable llamada `average_calories` e imprimala"
   ]
  },
  {
   "cell_type": "code",
   "execution_count": null,
   "metadata": {},
   "outputs": [],
   "source": []
  },
  {
   "cell_type": "markdown",
   "metadata": {},
   "source": [
    "### 4- Este promedio refleja adecuadamente la distribucion de los datos? Ordenelos y vemos. Guarde el resultado en una variable llamada `calorie_stats_sorted` e imprimala"
   ]
  },
  {
   "cell_type": "code",
   "execution_count": null,
   "metadata": {},
   "outputs": [],
   "source": []
  },
  {
   "cell_type": "markdown",
   "metadata": {},
   "source": [
    "Si esta viendo lo mismo que nosotros, se dara cuandta que la mayoria de valores estan por encima de la media. Vemos si la mediana es mas representativa que la media en este caso. \n",
    "\n",
    "### 5- Calcule la Mediana y guardela en una variable llamada `median_calories` e imprimala"
   ]
  },
  {
   "cell_type": "code",
   "execution_count": null,
   "metadata": {},
   "outputs": [],
   "source": []
  },
  {
   "cell_type": "markdown",
   "metadata": {},
   "source": [
    "### 6- Calcule ahora diferentes percentiles e imprimalos hasta que encuentre el percentil mas bajo que es mayor que 60 calorias. Guarde este valor en la variable `nth_percentile`"
   ]
  },
  {
   "cell_type": "code",
   "execution_count": null,
   "metadata": {},
   "outputs": [],
   "source": []
  },
  {
   "cell_type": "code",
   "execution_count": null,
   "metadata": {},
   "outputs": [],
   "source": []
  },
  {
   "cell_type": "markdown",
   "metadata": {},
   "source": [
    "### 7- Calculemos el porcentaje de cereales que tienen mas de 60 calorias. Guarde el valor en la variable `more_calories` e imprimala"
   ]
  },
  {
   "cell_type": "code",
   "execution_count": null,
   "metadata": {},
   "outputs": [],
   "source": []
  },
  {
   "cell_type": "code",
   "execution_count": null,
   "metadata": {},
   "outputs": [],
   "source": []
  },
  {
   "cell_type": "markdown",
   "metadata": {},
   "source": [
    "Como vemos la gran mayoria de competidores tienen cereales con mas de +60 calorias. pero cuanta variacion hay en el set de datos? Podemos hacer una generalizacion diciendo que la mayoria tiene alrededor de 100 calorias o es la dispersion aun mas grande?\n",
    "\n",
    "### 8- Calcule el monto de variacion encontrando la desviacion standard. Guarde su respuesta en `calorie_std` e imprimala. Como podemos incorporar este valor en nuestro analisis?"
   ]
  },
  {
   "cell_type": "code",
   "execution_count": null,
   "metadata": {},
   "outputs": [],
   "source": []
  },
  {
   "cell_type": "markdown",
   "metadata": {},
   "source": [
    "## 9- Escriba un parrafo corto acerca de sus resultados y como puede usarlo su empresa para las campañas de marketing?"
   ]
  },
  {
   "cell_type": "code",
   "execution_count": null,
   "metadata": {},
   "outputs": [],
   "source": [
    "## text here"
   ]
  }
 ],
 "metadata": {
  "kernelspec": {
   "display_name": "Python 3",
   "language": "python",
   "name": "python3"
  },
  "language_info": {
   "codemirror_mode": {
    "name": "ipython",
    "version": 3
   },
   "file_extension": ".py",
   "mimetype": "text/x-python",
   "name": "python",
   "nbconvert_exporter": "python",
   "pygments_lexer": "ipython3",
   "version": "3.8.2"
  }
 },
 "nbformat": 4,
 "nbformat_minor": 2
}
