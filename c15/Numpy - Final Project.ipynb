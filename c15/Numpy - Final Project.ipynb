{
 "cells": [
  {
   "cell_type": "markdown",
   "metadata": {},
   "source": [
    "# Numpy - Final Project"
   ]
  },
  {
   "cell_type": "markdown",
   "metadata": {},
   "source": [
    "Usted es parte de un grupo de investigacion que conduce encuestas telefonicas previo a elecciones locales. Durante esta temporada de elecciones el grupo conduce una encuesta para determinar cuantas personas votarian por Cynthia Ceballos vs Justin Kerrigan a eleccion de alcalde. \n",
    "\n",
    "Ahora que las elecciones han pasado, su grupo de trabajo quiere comparar las respuestas de la encuesta con los resultados reales. \n",
    "\n",
    "Fueron tus encuestas un buen indicador? Vamos a saberlo!"
   ]
  },
  {
   "cell_type": "markdown",
   "metadata": {},
   "source": [
    "Importe numpy y matplotlib"
   ]
  },
  {
   "cell_type": "code",
   "execution_count": 16,
   "metadata": {},
   "outputs": [],
   "source": [
    "import numpy as np\n",
    "from matplotlib import pyplot as plt"
   ]
  },
  {
   "cell_type": "markdown",
   "metadata": {},
   "source": [
    "Estas son las diferentes respuestas a las encuestas"
   ]
  },
  {
   "cell_type": "code",
   "execution_count": 2,
   "metadata": {},
   "outputs": [],
   "source": [
    "survey_responses = ['Ceballos', 'Kerrigan', 'Ceballos', 'Ceballos', 'Ceballos','Kerrigan', 'Kerrigan', 'Ceballos', 'Ceballos', 'Ceballos', \n",
    "'Kerrigan', 'Kerrigan', 'Ceballos', 'Ceballos', 'Kerrigan', 'Kerrigan', 'Ceballos', 'Ceballos', 'Kerrigan', 'Kerrigan', 'Kerrigan', 'Kerrigan', 'Kerrigan', 'Kerrigan', 'Ceballos', 'Ceballos', 'Ceballos', 'Ceballos', 'Ceballos', 'Ceballos',\n",
    "'Kerrigan', 'Kerrigan', 'Ceballos', 'Ceballos', 'Ceballos', 'Kerrigan', 'Kerrigan', 'Ceballos', 'Ceballos', 'Kerrigan', 'Kerrigan', 'Ceballos', 'Ceballos', 'Kerrigan', 'Kerrigan', 'Kerrigan', 'Kerrigan', 'Kerrigan', 'Kerrigan', 'Ceballos',\n",
    "'Kerrigan', 'Kerrigan', 'Ceballos', 'Ceballos', 'Ceballos', 'Kerrigan', 'Kerrigan', 'Ceballos', 'Ceballos', 'Kerrigan', 'Kerrigan', 'Ceballos', 'Ceballos', 'Kerrigan', 'Kerrigan', 'Kerrigan', 'Kerrigan', 'Kerrigan', 'Kerrigan', 'Ceballos']"
   ]
  },
  {
   "cell_type": "markdown",
   "metadata": {},
   "source": [
    "Calcule el numero de personas que respondieron 'Ceballos' y guarde la en una variable llamada: `total_ceballos` e imprima la variable"
   ]
  },
  {
   "cell_type": "code",
   "execution_count": 17,
   "metadata": {},
   "outputs": [
    {
     "name": "stdout",
     "output_type": "stream",
     "text": [
      "70\n",
      "33\n"
     ]
    }
   ],
   "source": [
    "print(len(survey_responses))\n",
    "total_ceballos = survey_responses.count(\"Ceballos\")\n",
    "print(total_ceballos)\n",
    "\n",
    "\n"
   ]
  },
  {
   "cell_type": "markdown",
   "metadata": {},
   "source": [
    "Calcule el porcentaje de personas en la encuesta que voto por ceballos y guardelo en la variable `percentage_cabellos` e imprima la variable"
   ]
  },
  {
   "cell_type": "code",
   "execution_count": 14,
   "metadata": {},
   "outputs": [
    {
     "name": "stdout",
     "output_type": "stream",
     "text": [
      "70\n",
      "47.14285714285714\n"
     ]
    }
   ],
   "source": [
    "survey_arr = np.array(survey_responses)\n",
    "print(len(survey_arr))\n",
    "percentage_cabellos = np.mean(survey_arr == \"Ceballos\")\n",
    "print(percentage_cabellos*100) "
   ]
  },
  {
   "cell_type": "markdown",
   "metadata": {},
   "source": [
    "En la elección real, el 54% de los 10.000 habitantes del pueblo votaron por Cynthia Ceballos. Sus supervisores están preocupados porque este es un resultado muy diferente al que predijo la encuesta. Quieren que usted determine si hay algún problema con la encuesta o si, dado el tamaño de la muestra, el resultado fue totalmente razonable.\n",
    "\n",
    "Generar una distribución binomial que tome como parámetros el número total de respuestas de la encuesta, la tasa real de éxito y el tamaño de la población de la ciudad. Luego divida la distribución por el número de respuestas de la encuesta. Guarde el cálculo en la variable `possible_surveys`."
   ]
  },
  {
   "cell_type": "code",
   "execution_count": 19,
   "metadata": {},
   "outputs": [
    {
     "name": "stdout",
     "output_type": "stream",
     "text": [
      "70.0\n",
      "[0.68571429 0.47142857 0.55714286 ... 0.64285714 0.58571429 0.58571429]\n"
     ]
    }
   ],
   "source": [
    "total = float(len(survey_arr))\n",
    "print(total)\n",
    "\n",
    "n = 70\n",
    "p = 0.54\n",
    "size = 10000\n",
    "\n",
    "binominal = np.random.binomial(n, p, size=10000)\n",
    "\n",
    "possible_surveys = binominal/total\n",
    "\n",
    "print(possible_surveys)\n",
    "\n"
   ]
  },
  {
   "cell_type": "markdown",
   "metadata": {},
   "source": [
    "Dibuje de histograma de `possible_answers` en un rango de 0-1 y de 20 bins"
   ]
  },
  {
   "cell_type": "code",
   "execution_count": 20,
   "metadata": {},
   "outputs": [
    {
     "data": {
      "image/png": "[encoded data removed]",
      "text/plain": [
       "<Figure size 432x288 with 1 Axes>"
      ]
     },
     "metadata": {
      "needs_background": "light"
     },
     "output_type": "display_data"
    }
   ],
   "source": [
    "plt.hist(possible_surveys, bins=20, range=(0,1))\n",
    "plt.show()\n",
    "\n"
   ]
  },
  {
   "cell_type": "markdown",
   "metadata": {},
   "source": [
    "Como vemos, el 47% de las personas encuestadas dijeron que votarían por Ceballos, pero el 54% de las personas votaron por Ceballos en la elección real.\n",
    "\n",
    "Calcule ahora el porcentaje de encuestas que podrían tener como resultado que Ceballos reciba menos del 50% de los votos y guárdelo en la variable `ceballos_loss_surveys`."
   ]
  },
  {
   "cell_type": "code",
   "execution_count": 24,
   "metadata": {},
   "outputs": [
    {
     "name": "stdout",
     "output_type": "stream",
     "text": [
      "[0.68571429 0.47142857 0.55714286 ... 0.64285714 0.58571429 0.58571429]\n",
      "2112\n"
     ]
    }
   ],
   "source": [
    "ceballos_loss_surveys = len(possible_surveys)\n",
    "print(possible_surveys)\n",
    "\n",
    "\n",
    "##numero de encuestas que reciben menos del 50% de los votos\n",
    "incorrect_predictions = len(possible_surveys[possible_surveys < 0.5])\n",
    "print(incorrect_predictions)"
   ]
  },
  {
   "cell_type": "markdown",
   "metadata": {},
   "source": [
    "Con esta encuesta actual, cerca del 20% de las veces la encuesta pronostica que Kerrigan ganará, incluso si Ceballos ganara la elección real.\n",
    "\n",
    "Su compañero de trabajo señala que su encuesta sería más precisa si tuviera más encuestados.\n",
    "\n",
    "Genere otra distribución binomial, pero esta vez, vea qué pasaría si hubiera encuestado a 7.000 personas. Divida la distribución por el tamaño de la encuesta y guarde sus hallazgos en `large_survey`."
   ]
  },
  {
   "cell_type": "code",
   "execution_count": 27,
   "metadata": {},
   "outputs": [
    {
     "ename": "AttributeError",
     "evalue": "module 'numpy.random' has no attribute 'binominal'",
     "output_type": "error",
     "traceback": [
      "\u001b[0;31m---------------------------------------------------------------------------\u001b[0m",
      "\u001b[0;31mAttributeError\u001b[0m                            Traceback (most recent call last)",
      "\u001b[0;32m<ipython-input-27-596288b1c19b>\u001b[0m in \u001b[0;36m<module>\u001b[0;34m\u001b[0m\n\u001b[1;32m      1\u001b[0m \u001b[0mlarge_survey_length\u001b[0m \u001b[0;34m=\u001b[0m \u001b[0mfloat\u001b[0m\u001b[0;34m(\u001b[0m\u001b[0;36m7000\u001b[0m\u001b[0;34m)\u001b[0m\u001b[0;34m\u001b[0m\u001b[0;34m\u001b[0m\u001b[0m\n\u001b[0;32m----> 2\u001b[0;31m \u001b[0mlarge_survey\u001b[0m \u001b[0;34m=\u001b[0m \u001b[0mnp\u001b[0m\u001b[0;34m.\u001b[0m\u001b[0mrandom\u001b[0m\u001b[0;34m.\u001b[0m\u001b[0mbinominal\u001b[0m\u001b[0;34m(\u001b[0m\u001b[0mlarge_survey_length\u001b[0m\u001b[0;34m,\u001b[0m \u001b[0;36m0.54\u001b[0m\u001b[0;34m,\u001b[0m \u001b[0msize\u001b[0m \u001b[0;34m=\u001b[0m \u001b[0;36m10000\u001b[0m\u001b[0;34m)\u001b[0m\u001b[0;34m\u001b[0m\u001b[0;34m\u001b[0m\u001b[0m\n\u001b[0m",
      "\u001b[0;31mAttributeError\u001b[0m: module 'numpy.random' has no attribute 'binominal'"
     ]
    }
   ],
   "source": [
    "large_survey_length = float(7000) \n",
    "large_survey = np.random.binominal(large_survey_length, 0.54, size = 10000)"
   ]
  },
  {
   "cell_type": "markdown",
   "metadata": {},
   "source": [
    "Trate de graficar con matplotlib ambas encuestas: `possible_surveys` y `large_survey`. Solo debe  añadir al segundo grafico un `alpha=0.5` para que quede un poco mas transparente y se puedan ver ambos resultados en un mismo grafico"
   ]
  },
  {
   "cell_type": "code",
   "execution_count": null,
   "metadata": {},
   "outputs": [],
   "source": []
  },
  {
   "cell_type": "markdown",
   "metadata": {},
   "source": [
    "Ahora, recalcule el porcentaje de encuestas que tendrían un resultado donde Ceballos pierde y guárdelo en la variable `ceballos_loss_new`, e imprima el valor en el terminal.\n",
    "¿Qué notamos en este nuevo valor?\n",
    "\n",
    "¿Qué consejo daría a sus supervisores sobre cómo predecir los resultados de las encuestas?"
   ]
  },
  {
   "cell_type": "code",
   "execution_count": null,
   "metadata": {},
   "outputs": [],
   "source": []
  },
  {
   "cell_type": "markdown",
   "metadata": {},
   "source": [
    "Esto nos muestra claramente que a un mayor numero de ejemplos menos chance de fallar?"
   ]
  },
  {
   "cell_type": "code",
   "execution_count": null,
   "metadata": {},
   "outputs": [],
   "source": []
  },
  {
   "cell_type": "code",
   "execution_count": null,
   "metadata": {},
   "outputs": [],
   "source": []
  }
 ],
 "metadata": {
  "kernelspec": {
   "display_name": "Python 3",
   "language": "python",
   "name": "python3"
  },
  "language_info": {
   "codemirror_mode": {
    "name": "ipython",
    "version": 3
   },
   "file_extension": ".py",
   "mimetype": "text/x-python",
   "name": "python",
   "nbconvert_exporter": "python",
   "pygments_lexer": "ipython3",
   "version": "3.8.2"
  }
 },
 "nbformat": 4,
 "nbformat_minor": 2
}
