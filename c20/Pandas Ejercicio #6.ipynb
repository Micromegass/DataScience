{
 "cells": [
  {
   "cell_type": "markdown",
   "metadata": {},
   "source": [
    "# Pandas Ejercicio #6 - Solution"
   ]
  },
  {
   "cell_type": "markdown",
   "metadata": {},
   "source": [
    "La empresa Cool T-Shirts acaba de crear un sitio web para ordenar productos por intenert. Ellos quieren analizar dos datasets\n",
    "\n",
    "- `visits_site.csv` que contiene informacion de todas las visitas a la pagina\n",
    "- `checkouts.csv` que contiene todos los usuarios que hicieron checkout en la pagina\n",
    "\n",
    "Importe los datasets suministrados e imprimalos\n",
    "\n",
    "### Ciudado: en el momento de usar el metodo `read_csv` pase un segundo parametro para parsear las fechas asi: `parse_dates=[1]`"
   ]
  },
  {
   "cell_type": "code",
   "execution_count": 1,
   "metadata": {},
   "outputs": [],
   "source": [
    "import pandas as pd"
   ]
  },
  {
   "cell_type": "code",
   "execution_count": 13,
   "metadata": {},
   "outputs": [
    {
     "data": {
      "text/html": [
       "<div>\n",
       "<style scoped>\n",
       "    .dataframe tbody tr th:only-of-type {\n",
       "        vertical-align: middle;\n",
       "    }\n",
       "\n",
       "    .dataframe tbody tr th {\n",
       "        vertical-align: top;\n",
       "    }\n",
       "\n",
       "    .dataframe thead th {\n",
       "        text-align: right;\n",
       "    }\n",
       "</style>\n",
       "<table border=\"1\" class=\"dataframe\">\n",
       "  <thead>\n",
       "    <tr style=\"text-align: right;\">\n",
       "      <th></th>\n",
       "      <th>user_id</th>\n",
       "      <th>visit_time</th>\n",
       "    </tr>\n",
       "  </thead>\n",
       "  <tbody>\n",
       "    <tr>\n",
       "      <th>0</th>\n",
       "      <td>319350b4-9951-47ef-b3a7-6b252099905f</td>\n",
       "      <td>2017-02-21 07:16:00</td>\n",
       "    </tr>\n",
       "    <tr>\n",
       "      <th>1</th>\n",
       "      <td>7435ec9f-576d-4ebd-8791-361b128fca77</td>\n",
       "      <td>2017-05-16 08:37:00</td>\n",
       "    </tr>\n",
       "    <tr>\n",
       "      <th>2</th>\n",
       "      <td>0b061e73-f709-42fa-8d1a-5f68176ff154</td>\n",
       "      <td>2017-04-12 19:32:00</td>\n",
       "    </tr>\n",
       "    <tr>\n",
       "      <th>3</th>\n",
       "      <td>9133d6f0-e68b-4c8d-bafd-ff2825e8dafe</td>\n",
       "      <td>2017-08-18 04:32:00</td>\n",
       "    </tr>\n",
       "    <tr>\n",
       "      <th>4</th>\n",
       "      <td>08d13edb-071c-4cfb-9ee4-8f377d0e932a</td>\n",
       "      <td>2017-07-08 06:24:00</td>\n",
       "    </tr>\n",
       "  </tbody>\n",
       "</table>\n",
       "</div>"
      ],
      "text/plain": [
       "                                user_id          visit_time\n",
       "0  319350b4-9951-47ef-b3a7-6b252099905f 2017-02-21 07:16:00\n",
       "1  7435ec9f-576d-4ebd-8791-361b128fca77 2017-05-16 08:37:00\n",
       "2  0b061e73-f709-42fa-8d1a-5f68176ff154 2017-04-12 19:32:00\n",
       "3  9133d6f0-e68b-4c8d-bafd-ff2825e8dafe 2017-08-18 04:32:00\n",
       "4  08d13edb-071c-4cfb-9ee4-8f377d0e932a 2017-07-08 06:24:00"
      ]
     },
     "execution_count": 13,
     "metadata": {},
     "output_type": "execute_result"
    }
   ],
   "source": [
    "visits = pd.read_csv('visits_site.csv', parse_dates=[1])\n",
    "visits.head()"
   ]
  },
  {
   "cell_type": "code",
   "execution_count": 7,
   "metadata": {},
   "outputs": [
    {
     "data": {
      "text/html": [
       "<div>\n",
       "<style scoped>\n",
       "    .dataframe tbody tr th:only-of-type {\n",
       "        vertical-align: middle;\n",
       "    }\n",
       "\n",
       "    .dataframe tbody tr th {\n",
       "        vertical-align: top;\n",
       "    }\n",
       "\n",
       "    .dataframe thead th {\n",
       "        text-align: right;\n",
       "    }\n",
       "</style>\n",
       "<table border=\"1\" class=\"dataframe\">\n",
       "  <thead>\n",
       "    <tr style=\"text-align: right;\">\n",
       "      <th></th>\n",
       "      <th>user_id</th>\n",
       "      <th>checkout_time</th>\n",
       "    </tr>\n",
       "  </thead>\n",
       "  <tbody>\n",
       "    <tr>\n",
       "      <th>0</th>\n",
       "      <td>fe90a9f4-960a-4a0d-9160-e562adb79365</td>\n",
       "      <td>2017-11-09 09:25:00</td>\n",
       "    </tr>\n",
       "    <tr>\n",
       "      <th>1</th>\n",
       "      <td>1a35b7eb-f603-407d-91be-a2c3304066fd</td>\n",
       "      <td>2017-08-15 21:25:00</td>\n",
       "    </tr>\n",
       "    <tr>\n",
       "      <th>2</th>\n",
       "      <td>e2c24ee0-7fdf-4400-abde-b36378fe5ce6</td>\n",
       "      <td>2017-07-04 15:39:00</td>\n",
       "    </tr>\n",
       "    <tr>\n",
       "      <th>3</th>\n",
       "      <td>10dbd3c5-d610-44e9-9994-110a7950b6b4</td>\n",
       "      <td>2017-08-09 21:07:00</td>\n",
       "    </tr>\n",
       "    <tr>\n",
       "      <th>4</th>\n",
       "      <td>f028e9dd-77d0-4002-83f6-372a4837fda6</td>\n",
       "      <td>2017-10-27 08:57:00</td>\n",
       "    </tr>\n",
       "  </tbody>\n",
       "</table>\n",
       "</div>"
      ],
      "text/plain": [
       "                                user_id       checkout_time\n",
       "0  fe90a9f4-960a-4a0d-9160-e562adb79365 2017-11-09 09:25:00\n",
       "1  1a35b7eb-f603-407d-91be-a2c3304066fd 2017-08-15 21:25:00\n",
       "2  e2c24ee0-7fdf-4400-abde-b36378fe5ce6 2017-07-04 15:39:00\n",
       "3  10dbd3c5-d610-44e9-9994-110a7950b6b4 2017-08-09 21:07:00\n",
       "4  f028e9dd-77d0-4002-83f6-372a4837fda6 2017-10-27 08:57:00"
      ]
     },
     "execution_count": 7,
     "metadata": {},
     "output_type": "execute_result"
    }
   ],
   "source": [
    "checkouts = pd.read_csv('checkouts.csv', parse_dates=[1])\n",
    "\n",
    "checkouts.head()"
   ]
  },
  {
   "cell_type": "markdown",
   "metadata": {},
   "source": [
    "Queremos saber la cantidad de tiempo que transcurre desde la visita inicial de un usuario a la página web hasta el momento en que empieza a realizar el proceso de compra.\n",
    "\n",
    "para ello use `merge` para combinar `visits` y `checkouts` y guardelo en una variable `v_to_c`"
   ]
  },
  {
   "cell_type": "code",
   "execution_count": 8,
   "metadata": {},
   "outputs": [
    {
     "data": {
      "text/html": [
       "<div>\n",
       "<style scoped>\n",
       "    .dataframe tbody tr th:only-of-type {\n",
       "        vertical-align: middle;\n",
       "    }\n",
       "\n",
       "    .dataframe tbody tr th {\n",
       "        vertical-align: top;\n",
       "    }\n",
       "\n",
       "    .dataframe thead th {\n",
       "        text-align: right;\n",
       "    }\n",
       "</style>\n",
       "<table border=\"1\" class=\"dataframe\">\n",
       "  <thead>\n",
       "    <tr style=\"text-align: right;\">\n",
       "      <th></th>\n",
       "      <th>user_id</th>\n",
       "      <th>checkout_time</th>\n",
       "      <th>visit_time</th>\n",
       "    </tr>\n",
       "  </thead>\n",
       "  <tbody>\n",
       "    <tr>\n",
       "      <th>0</th>\n",
       "      <td>fe90a9f4-960a-4a0d-9160-e562adb79365</td>\n",
       "      <td>2017-11-09 09:25:00</td>\n",
       "      <td>2017-11-09 09:04:00</td>\n",
       "    </tr>\n",
       "    <tr>\n",
       "      <th>1</th>\n",
       "      <td>1a35b7eb-f603-407d-91be-a2c3304066fd</td>\n",
       "      <td>2017-08-15 21:25:00</td>\n",
       "      <td>2017-08-15 21:09:00</td>\n",
       "    </tr>\n",
       "    <tr>\n",
       "      <th>2</th>\n",
       "      <td>e2c24ee0-7fdf-4400-abde-b36378fe5ce6</td>\n",
       "      <td>2017-07-04 15:39:00</td>\n",
       "      <td>2017-07-04 15:33:00</td>\n",
       "    </tr>\n",
       "    <tr>\n",
       "      <th>3</th>\n",
       "      <td>10dbd3c5-d610-44e9-9994-110a7950b6b4</td>\n",
       "      <td>2017-08-09 21:07:00</td>\n",
       "      <td>2017-08-09 21:01:00</td>\n",
       "    </tr>\n",
       "    <tr>\n",
       "      <th>4</th>\n",
       "      <td>10dbd3c5-d610-44e9-9994-110a7950b6b4</td>\n",
       "      <td>2017-08-09 21:04:00</td>\n",
       "      <td>2017-08-09 21:01:00</td>\n",
       "    </tr>\n",
       "    <tr>\n",
       "      <th>...</th>\n",
       "      <td>...</td>\n",
       "      <td>...</td>\n",
       "      <td>...</td>\n",
       "    </tr>\n",
       "    <tr>\n",
       "      <th>75</th>\n",
       "      <td>a0fc94a2-4a80-4a33-994b-75783066ac62</td>\n",
       "      <td>2017-05-11 13:31:00</td>\n",
       "      <td>2017-05-11 13:07:00</td>\n",
       "    </tr>\n",
       "    <tr>\n",
       "      <th>76</th>\n",
       "      <td>65599d0d-76c2-4ad4-a717-70f12a187f1a</td>\n",
       "      <td>2017-02-15 07:27:00</td>\n",
       "      <td>2017-02-15 07:21:00</td>\n",
       "    </tr>\n",
       "    <tr>\n",
       "      <th>77</th>\n",
       "      <td>0b6b993f-3364-46ee-9baa-12b7fa546927</td>\n",
       "      <td>2017-03-06 23:59:00</td>\n",
       "      <td>2017-03-06 23:50:00</td>\n",
       "    </tr>\n",
       "    <tr>\n",
       "      <th>78</th>\n",
       "      <td>9812465d-fded-43c4-8685-3e96446f6cc7</td>\n",
       "      <td>2017-07-19 17:15:00</td>\n",
       "      <td>2017-07-19 17:02:00</td>\n",
       "    </tr>\n",
       "    <tr>\n",
       "      <th>79</th>\n",
       "      <td>43db76fc-d522-450d-a371-ef2a683d5bfd</td>\n",
       "      <td>2017-03-26 21:31:00</td>\n",
       "      <td>2017-03-26 21:11:00</td>\n",
       "    </tr>\n",
       "  </tbody>\n",
       "</table>\n",
       "<p>80 rows × 3 columns</p>\n",
       "</div>"
      ],
      "text/plain": [
       "                                 user_id       checkout_time  \\\n",
       "0   fe90a9f4-960a-4a0d-9160-e562adb79365 2017-11-09 09:25:00   \n",
       "1   1a35b7eb-f603-407d-91be-a2c3304066fd 2017-08-15 21:25:00   \n",
       "2   e2c24ee0-7fdf-4400-abde-b36378fe5ce6 2017-07-04 15:39:00   \n",
       "3   10dbd3c5-d610-44e9-9994-110a7950b6b4 2017-08-09 21:07:00   \n",
       "4   10dbd3c5-d610-44e9-9994-110a7950b6b4 2017-08-09 21:04:00   \n",
       "..                                   ...                 ...   \n",
       "75  a0fc94a2-4a80-4a33-994b-75783066ac62 2017-05-11 13:31:00   \n",
       "76  65599d0d-76c2-4ad4-a717-70f12a187f1a 2017-02-15 07:27:00   \n",
       "77  0b6b993f-3364-46ee-9baa-12b7fa546927 2017-03-06 23:59:00   \n",
       "78  9812465d-fded-43c4-8685-3e96446f6cc7 2017-07-19 17:15:00   \n",
       "79  43db76fc-d522-450d-a371-ef2a683d5bfd 2017-03-26 21:31:00   \n",
       "\n",
       "            visit_time  \n",
       "0  2017-11-09 09:04:00  \n",
       "1  2017-08-15 21:09:00  \n",
       "2  2017-07-04 15:33:00  \n",
       "3  2017-08-09 21:01:00  \n",
       "4  2017-08-09 21:01:00  \n",
       "..                 ...  \n",
       "75 2017-05-11 13:07:00  \n",
       "76 2017-02-15 07:21:00  \n",
       "77 2017-03-06 23:50:00  \n",
       "78 2017-07-19 17:02:00  \n",
       "79 2017-03-26 21:11:00  \n",
       "\n",
       "[80 rows x 3 columns]"
      ]
     },
     "execution_count": 8,
     "metadata": {},
     "output_type": "execute_result"
    }
   ],
   "source": [
    "v_to_c = checkouts.merge(visits)\n",
    "v_to_c"
   ]
  },
  {
   "cell_type": "markdown",
   "metadata": {},
   "source": [
    "Para calcular el tiempo entre la visita y el checkout, defina una columna `v_to_c` llamada `time`, la cual realiza el calculo de la diferencia. Llame el `.head()` para interpretar mejor el resultado y revise los tiempos de los usuarios en la nueva columna time!"
   ]
  },
  {
   "cell_type": "code",
   "execution_count": 9,
   "metadata": {},
   "outputs": [],
   "source": [
    "v_to_c['time']= v_to_c.checkout_time - v_to_c.visit_time"
   ]
  },
  {
   "cell_type": "markdown",
   "metadata": {},
   "source": [
    "Para obtener el tiempo promedio del checkout que codigo deberiamos ejecutar?\n"
   ]
  },
  {
   "cell_type": "code",
   "execution_count": 11,
   "metadata": {},
   "outputs": [
    {
     "data": {
      "text/plain": [
       "Timestamp('2017-06-06 16:31:53.250000128')"
      ]
     },
     "execution_count": 11,
     "metadata": {},
     "output_type": "execute_result"
    }
   ],
   "source": [
    "v_to_c.checkout_time.mean()"
   ]
  },
  {
   "cell_type": "code",
   "execution_count": null,
   "metadata": {},
   "outputs": [],
   "source": []
  },
  {
   "cell_type": "code",
   "execution_count": null,
   "metadata": {},
   "outputs": [],
   "source": []
  }
 ],
 "metadata": {
  "kernelspec": {
   "display_name": "Python 3",
   "language": "python",
   "name": "python3"
  },
  "language_info": {
   "codemirror_mode": {
    "name": "ipython",
    "version": 3
   },
   "file_extension": ".py",
   "mimetype": "text/x-python",
   "name": "python",
   "nbconvert_exporter": "python",
   "pygments_lexer": "ipython3",
   "version": "3.8.2"
  }
 },
 "nbformat": 4,
 "nbformat_minor": 2
}
