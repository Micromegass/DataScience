{
 "cells": [
  {
   "cell_type": "markdown",
   "metadata": {},
   "source": [
    "# Python Loops Exercises\n",
    "Used trabaja como Data Analyst un salon para cuidado femenino. Usted va a calcular importantes metricas del negocio. Empezemos!"
   ]
  },
  {
   "cell_type": "markdown",
   "metadata": {},
   "source": [
    "## Initial data\n",
    "Usted fue proveido con las siguientes listas\n",
    "- `hairstyles` los nombres de cortes en el negocio\n",
    "- `prices` el precio de cada corte de la lista `hairstyles`\n",
    "- `last_week` el numero de cada corte en `hairstyles` que fue comprado la semana anterior"
   ]
  },
  {
   "cell_type": "markdown",
   "metadata": {},
   "source": [
    "## Data"
   ]
  },
  {
   "cell_type": "code",
   "execution_count": 12,
   "metadata": {},
   "outputs": [],
   "source": [
    "hairstyles = [\"bouffant\", \"pixie\", \"dreadlocks\", \"crew\", \"bowl\", \"bob\", \"mohawk\", \"flattop\"]\n",
    "prices = [30, 25, 40, 20, 20, 35, 50, 35]\n",
    "last_week = [2, 3, 5, 8, 4, 4, 6, 2]"
   ]
  },
  {
   "cell_type": "markdown",
   "metadata": {},
   "source": [
    "## Precios y Rebajas"
   ]
  },
  {
   "cell_type": "markdown",
   "metadata": {},
   "source": [
    "- Cree una variable llamada `total_price` e iniciela en `0`"
   ]
  },
  {
   "cell_type": "code",
   "execution_count": 9,
   "metadata": {},
   "outputs": [],
   "source": [
    "total_price = 0"
   ]
  },
  {
   "cell_type": "markdown",
   "metadata": {},
   "source": [
    "- Itera sobre la lista `prices` y añade cada precio a la variable `total_price`"
   ]
  },
  {
   "cell_type": "code",
   "execution_count": 10,
   "metadata": {},
   "outputs": [],
   "source": [
    "for price in prices:\n",
    "    total_price += price"
   ]
  },
  {
   "cell_type": "markdown",
   "metadata": {},
   "source": [
    "- Crea una variable llamada `average_price` que es `total_price` dividido por el numero de precios. Recuerde que puede obtener el largo con la funcion `len()`"
   ]
  },
  {
   "cell_type": "code",
   "execution_count": 11,
   "metadata": {},
   "outputs": [],
   "source": [
    "average_price = total_price / len(prices)"
   ]
  },
  {
   "cell_type": "markdown",
   "metadata": {},
   "source": [
    "- Imprima el valor de `average_price` para que el resultado luzca como esto: `Average Haircut Price: <average_price>`"
   ]
  },
  {
   "cell_type": "code",
   "execution_count": 12,
   "metadata": {},
   "outputs": [
    {
     "name": "stdout",
     "output_type": "stream",
     "text": [
      "31.875\n"
     ]
    }
   ],
   "source": [
    "print(average_price)"
   ]
  },
  {
   "cell_type": "markdown",
   "metadata": {},
   "source": [
    "- La dueña quiere bajar todos los precios en 5 usd. Use un list comprenhension para hacer una lista llamada `new_prices` el cual tiene cada elemento de `prices` menos `5`"
   ]
  },
  {
   "cell_type": "code",
   "execution_count": 13,
   "metadata": {},
   "outputs": [],
   "source": [
    "new_prices = [ price -5 for price in prices]"
   ]
  },
  {
   "cell_type": "markdown",
   "metadata": {},
   "source": [
    "- Imprima `new_prices`"
   ]
  },
  {
   "cell_type": "code",
   "execution_count": 14,
   "metadata": {},
   "outputs": [
    {
     "name": "stdout",
     "output_type": "stream",
     "text": [
      "[25, 20, 35, 15, 15, 30, 45, 30]\n"
     ]
    }
   ],
   "source": [
    "print(new_prices)"
   ]
  },
  {
   "cell_type": "markdown",
   "metadata": {},
   "source": [
    "## Ingresos"
   ]
  },
  {
   "cell_type": "markdown",
   "metadata": {},
   "source": [
    "- La dueña del negocio realmente quiere ser rentable, y quiere saber cuanto vendio la semana pasada. Cree una nueva variable llamada `total_revenue` e iniciela en `0`"
   ]
  },
  {
   "cell_type": "code",
   "execution_count": 15,
   "metadata": {},
   "outputs": [],
   "source": [
    "total_revenue = 0"
   ]
  },
  {
   "cell_type": "markdown",
   "metadata": {},
   "source": [
    "- Use un ciclo `for` para crear una variable `i` que va de `0` a `len(hairstyles)`. Ayuda: puedes usar `range()` para hacer esto. "
   ]
  },
  {
   "cell_type": "code",
   "execution_count": 16,
   "metadata": {},
   "outputs": [
    {
     "name": "stdout",
     "output_type": "stream",
     "text": [
      "0\n",
      "1\n",
      "2\n",
      "3\n",
      "4\n",
      "5\n",
      "6\n",
      "7\n"
     ]
    }
   ],
   "source": [
    "for i in range(len(hairstyles)):\n",
    "    print(i)"
   ]
  },
  {
   "cell_type": "markdown",
   "metadata": {},
   "source": [
    "- Añade el producto de `prices[i]` (el precio de cada `haircut` en la posicion `i`) y `last_week[i]` (el numero de personas que tuvo un corte en la posicion `i`) a `total_revenue` en cada paso. "
   ]
  },
  {
   "cell_type": "code",
   "execution_count": 19,
   "metadata": {},
   "outputs": [],
   "source": [
    "for i in range(len(hairstyles)):\n",
    "    total_revenue += prices[i] * last_week[i]"
   ]
  },
  {
   "cell_type": "markdown",
   "metadata": {},
   "source": [
    "- Despues del ciclo imprime `total_revenue` de forma tal que se vea de la siguiente manera. `Total Revenue: <total_revenue>`"
   ]
  },
  {
   "cell_type": "code",
   "execution_count": 20,
   "metadata": {},
   "outputs": [
    {
     "name": "stdout",
     "output_type": "stream",
     "text": [
      "1085\n"
     ]
    }
   ],
   "source": [
    "print(total_revenue)"
   ]
  },
  {
   "cell_type": "markdown",
   "metadata": {},
   "source": [
    "- Encuentra el promedio diario de ingresos dividiendo `total_revenue` por `7`. Llama este numero `average_daily_revenue` "
   ]
  },
  {
   "cell_type": "code",
   "execution_count": 21,
   "metadata": {},
   "outputs": [],
   "source": [
    "average_daily_revenue = total_revenue / 7"
   ]
  },
  {
   "cell_type": "code",
   "execution_count": 22,
   "metadata": {},
   "outputs": [
    {
     "name": "stdout",
     "output_type": "stream",
     "text": [
      "155.0\n"
     ]
    }
   ],
   "source": [
    "print(average_daily_revenue)"
   ]
  },
  {
   "cell_type": "code",
   "execution_count": 23,
   "metadata": {},
   "outputs": [
    {
     "name": "stdout",
     "output_type": "stream",
     "text": [
      "\u001b[33mWARNING: The directory '/Users/micromegas/Library/Caches/pip' or its parent directory is not owned or is not writable by the current user. The cache has been disabled. Check the permissions and owner of that directory. If executing pip with sudo, you may want sudo's -H flag.\u001b[0m\n",
      "appnope==0.1.0\n",
      "attrs==19.3.0\n",
      "backcall==0.1.0\n",
      "bleach==3.1.4\n",
      "brotlipy==0.7.0\n",
      "certifi==2020.4.5.1\n",
      "cffi==1.14.0\n",
      "chardet==3.0.4\n",
      "cryptography==2.9.2\n",
      "cycler==0.10.0\n",
      "decorator==4.4.2\n",
      "defusedxml==0.6.0\n",
      "entrypoints==0.3\n",
      "idna==2.9\n",
      "importlib-metadata==1.6.0\n",
      "ipykernel==5.2.1\n",
      "ipython==7.13.0\n",
      "ipython-genutils==0.2.0\n",
      "jedi==0.17.0\n",
      "Jinja2==2.11.2\n",
      "json5==0.9.0\n",
      "jsonschema==3.2.0\n",
      "jupyter-client==6.1.3\n",
      "jupyter-core==4.6.3\n",
      "jupyterlab==2.1.1\n",
      "jupyterlab-server==1.1.1\n",
      "jupyterthemes==0.20.0\n",
      "kiwisolver==1.2.0\n",
      "lesscpy==0.14.0\n",
      "MarkupSafe==1.1.1\n",
      "matplotlib==3.2.1\n",
      "mistune==0.8.4\n",
      "nbconvert==5.6.1\n",
      "nbformat==5.0.6\n",
      "notebook==6.0.3\n",
      "numpy==1.18.5\n",
      "pandocfilters==1.4.2\n",
      "parso==0.7.0\n",
      "pexpect==4.8.0\n",
      "pickleshare==0.7.5\n",
      "ply==3.11\n",
      "prometheus-client==0.7.1\n",
      "prompt-toolkit==3.0.5\n",
      "ptyprocess==0.6.0\n",
      "pycparser==2.20\n",
      "Pygments==2.6.1\n",
      "pyOpenSSL==19.1.0\n",
      "pyparsing==2.4.7\n",
      "pyrsistent==0.16.0\n",
      "PySocks==1.7.1\n",
      "python-dateutil==2.8.1\n",
      "pyzmq==18.1.1\n",
      "requests==2.23.0\n",
      "Send2Trash==1.5.0\n",
      "six==1.14.0\n",
      "terminado==0.8.3\n",
      "testpath==0.4.4\n",
      "tornado==6.0.4\n",
      "traitlets==4.3.3\n",
      "urllib3==1.25.9\n",
      "wcwidth==0.1.9\n",
      "webencodings==0.5.1\n",
      "zipp==3.1.0\n",
      "Note: you may need to restart the kernel to use updated packages.\n"
     ]
    }
   ],
   "source": [
    "pip freeze"
   ]
  },
  {
   "cell_type": "code",
   "execution_count": null,
   "metadata": {},
   "outputs": [],
   "source": []
  }
 ],
 "metadata": {
  "kernelspec": {
   "display_name": "Python 3",
   "language": "python",
   "name": "python3"
  },
  "language_info": {
   "codemirror_mode": {
    "name": "ipython",
    "version": 3
   },
   "file_extension": ".py",
   "mimetype": "text/x-python",
   "name": "python",
   "nbconvert_exporter": "python",
   "pygments_lexer": "ipython3",
   "version": "3.8.2"
  }
 },
 "nbformat": 4,
 "nbformat_minor": 2
}
