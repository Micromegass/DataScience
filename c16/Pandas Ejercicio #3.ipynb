{
 "cells": [
  {
   "cell_type": "markdown",
   "metadata": {},
   "source": [
    "# Ejercicio #3"
   ]
  },
  {
   "cell_type": "markdown",
   "metadata": {},
   "source": [
    "En este ejercicio usted va a analizar los datos de ShoeFly.com una tienda online ficticia."
   ]
  },
  {
   "cell_type": "markdown",
   "metadata": {},
   "source": [
    "Cargue aqui la data desde `shoefly.csv` en la variable `orders`"
   ]
  },
  {
   "cell_type": "code",
   "execution_count": 2,
   "metadata": {},
   "outputs": [],
   "source": [
    "import pandas as pd\n",
    "\n",
    "orders = pd.read_csv('shoefly.csv')"
   ]
  },
  {
   "cell_type": "markdown",
   "metadata": {},
   "source": [
    "Inspeccione las primeras 5 lineas de datos"
   ]
  },
  {
   "cell_type": "code",
   "execution_count": 4,
   "metadata": {
    "scrolled": true
   },
   "outputs": [
    {
     "data": {
      "text/html": [
       "<div>\n",
       "<style scoped>\n",
       "    .dataframe tbody tr th:only-of-type {\n",
       "        vertical-align: middle;\n",
       "    }\n",
       "\n",
       "    .dataframe tbody tr th {\n",
       "        vertical-align: top;\n",
       "    }\n",
       "\n",
       "    .dataframe thead th {\n",
       "        text-align: right;\n",
       "    }\n",
       "</style>\n",
       "<table border=\"1\" class=\"dataframe\">\n",
       "  <thead>\n",
       "    <tr style=\"text-align: right;\">\n",
       "      <th></th>\n",
       "      <th>id</th>\n",
       "      <th>first_name</th>\n",
       "      <th>last_name</th>\n",
       "      <th>email</th>\n",
       "      <th>shoe_type</th>\n",
       "      <th>shoe_material</th>\n",
       "      <th>shoe_color</th>\n",
       "    </tr>\n",
       "  </thead>\n",
       "  <tbody>\n",
       "    <tr>\n",
       "      <th>0</th>\n",
       "      <td>54791</td>\n",
       "      <td>Rebecca</td>\n",
       "      <td>Lindsay</td>\n",
       "      <td>RebeccaLindsay57@hotmail.com</td>\n",
       "      <td>clogs</td>\n",
       "      <td>faux-leather</td>\n",
       "      <td>black</td>\n",
       "    </tr>\n",
       "    <tr>\n",
       "      <th>1</th>\n",
       "      <td>53450</td>\n",
       "      <td>Emily</td>\n",
       "      <td>Joyce</td>\n",
       "      <td>EmilyJoyce25@gmail.com</td>\n",
       "      <td>ballet flats</td>\n",
       "      <td>faux-leather</td>\n",
       "      <td>navy</td>\n",
       "    </tr>\n",
       "    <tr>\n",
       "      <th>2</th>\n",
       "      <td>91987</td>\n",
       "      <td>Joyce</td>\n",
       "      <td>Waller</td>\n",
       "      <td>Joyce.Waller@gmail.com</td>\n",
       "      <td>sandals</td>\n",
       "      <td>fabric</td>\n",
       "      <td>black</td>\n",
       "    </tr>\n",
       "    <tr>\n",
       "      <th>3</th>\n",
       "      <td>14437</td>\n",
       "      <td>Justin</td>\n",
       "      <td>Erickson</td>\n",
       "      <td>Justin.Erickson@outlook.com</td>\n",
       "      <td>clogs</td>\n",
       "      <td>faux-leather</td>\n",
       "      <td>red</td>\n",
       "    </tr>\n",
       "    <tr>\n",
       "      <th>4</th>\n",
       "      <td>79357</td>\n",
       "      <td>Andrew</td>\n",
       "      <td>Banks</td>\n",
       "      <td>AB4318@gmail.com</td>\n",
       "      <td>boots</td>\n",
       "      <td>leather</td>\n",
       "      <td>brown</td>\n",
       "    </tr>\n",
       "  </tbody>\n",
       "</table>\n",
       "</div>"
      ],
      "text/plain": [
       "      id first_name last_name                         email     shoe_type  \\\n",
       "0  54791    Rebecca   Lindsay  RebeccaLindsay57@hotmail.com         clogs   \n",
       "1  53450      Emily     Joyce        EmilyJoyce25@gmail.com  ballet flats   \n",
       "2  91987      Joyce    Waller        Joyce.Waller@gmail.com       sandals   \n",
       "3  14437     Justin  Erickson   Justin.Erickson@outlook.com         clogs   \n",
       "4  79357     Andrew     Banks              AB4318@gmail.com         boots   \n",
       "\n",
       "  shoe_material shoe_color  \n",
       "0  faux-leather      black  \n",
       "1  faux-leather       navy  \n",
       "2        fabric      black  \n",
       "3  faux-leather        red  \n",
       "4       leather      brown  "
      ]
     },
     "execution_count": 4,
     "metadata": {},
     "output_type": "execute_result"
    }
   ],
   "source": [
    "orders.head()"
   ]
  },
  {
   "cell_type": "markdown",
   "metadata": {},
   "source": [
    "Su departamento de marketing quiere enviar un email a todos los que estan en esta lista y han ordenado zapatos. Seleccione todos os emails de la columna `email` y guardelos en una variable llamada `emails`"
   ]
  },
  {
   "cell_type": "code",
   "execution_count": 9,
   "metadata": {},
   "outputs": [
    {
     "data": {
      "text/plain": [
       "0     RebeccaLindsay57@hotmail.com\n",
       "1           EmilyJoyce25@gmail.com\n",
       "2           Joyce.Waller@gmail.com\n",
       "3      Justin.Erickson@outlook.com\n",
       "4                 AB4318@gmail.com\n",
       "5           JulieMarsh59@gmail.com\n",
       "6                 TJ5470@gmail.com\n",
       "7           Janice.Hicks@gmail.com\n",
       "8        GabrielPorter24@gmail.com\n",
       "9        FrancesPalmer50@gmail.com\n",
       "10         JessicaHale25@gmail.com\n",
       "11      LawrenceParker44@gmail.com\n",
       "12         SusanDennis58@gmail.com\n",
       "13                DO2680@gmail.com\n",
       "14       Rebecca.Charles@gmail.com\n",
       "15              JC2072@hotmail.com\n",
       "16              VS4753@outlook.com\n",
       "17          RoyTillman20@gmail.com\n",
       "18       Thomas.Roberson@gmail.com\n",
       "19         ANewton1977@outlook.com\n",
       "Name: email, dtype: object"
      ]
     },
     "execution_count": 9,
     "metadata": {},
     "output_type": "execute_result"
    }
   ],
   "source": [
    "orders = pd.DataFrame(orders)\n",
    "orders\n",
    "\n",
    "emails = orders['email']\n",
    "emails"
   ]
  },
  {
   "cell_type": "markdown",
   "metadata": {},
   "source": [
    "Frances Palmer dice que su orden esta incorrecta. Que ordeno Frances Palmer? Use logica para seleccionar la fila de `orders` y guardela en una vairbale llamada `frances_palmer`"
   ]
  },
  {
   "cell_type": "code",
   "execution_count": 13,
   "metadata": {},
   "outputs": [
    {
     "data": {
      "text/html": [
       "<div>\n",
       "<style scoped>\n",
       "    .dataframe tbody tr th:only-of-type {\n",
       "        vertical-align: middle;\n",
       "    }\n",
       "\n",
       "    .dataframe tbody tr th {\n",
       "        vertical-align: top;\n",
       "    }\n",
       "\n",
       "    .dataframe thead th {\n",
       "        text-align: right;\n",
       "    }\n",
       "</style>\n",
       "<table border=\"1\" class=\"dataframe\">\n",
       "  <thead>\n",
       "    <tr style=\"text-align: right;\">\n",
       "      <th></th>\n",
       "      <th>id</th>\n",
       "      <th>first_name</th>\n",
       "      <th>last_name</th>\n",
       "      <th>email</th>\n",
       "      <th>shoe_type</th>\n",
       "      <th>shoe_material</th>\n",
       "      <th>shoe_color</th>\n",
       "    </tr>\n",
       "  </thead>\n",
       "  <tbody>\n",
       "    <tr>\n",
       "      <th>9</th>\n",
       "      <td>62083</td>\n",
       "      <td>Frances</td>\n",
       "      <td>Palmer</td>\n",
       "      <td>FrancesPalmer50@gmail.com</td>\n",
       "      <td>wedges</td>\n",
       "      <td>leather</td>\n",
       "      <td>white</td>\n",
       "    </tr>\n",
       "  </tbody>\n",
       "</table>\n",
       "</div>"
      ],
      "text/plain": [
       "      id first_name last_name                      email shoe_type  \\\n",
       "9  62083    Frances    Palmer  FrancesPalmer50@gmail.com    wedges   \n",
       "\n",
       "  shoe_material shoe_color  \n",
       "9       leather      white  "
      ]
     },
     "execution_count": 13,
     "metadata": {},
     "output_type": "execute_result"
    }
   ],
   "source": [
    "frances_palmer = orders[(orders.first_name == \"Frances\") & (orders.last_name == \"Palmer\")]\n",
    "\n",
    "frances_palmer"
   ]
  },
  {
   "cell_type": "markdown",
   "metadata": {},
   "source": [
    "Necesitamos nuevos reviews para nuestros zapatos confrmtables. Seleccione todas las ordenes en `shoe_type`: `clogs`, `boots` y `ballet flats` y guardelos en una variable `comfy_shoes`"
   ]
  },
  {
   "cell_type": "code",
   "execution_count": 15,
   "metadata": {},
   "outputs": [
    {
     "data": {
      "text/html": [
       "<div>\n",
       "<style scoped>\n",
       "    .dataframe tbody tr th:only-of-type {\n",
       "        vertical-align: middle;\n",
       "    }\n",
       "\n",
       "    .dataframe tbody tr th {\n",
       "        vertical-align: top;\n",
       "    }\n",
       "\n",
       "    .dataframe thead th {\n",
       "        text-align: right;\n",
       "    }\n",
       "</style>\n",
       "<table border=\"1\" class=\"dataframe\">\n",
       "  <thead>\n",
       "    <tr style=\"text-align: right;\">\n",
       "      <th></th>\n",
       "      <th>id</th>\n",
       "      <th>first_name</th>\n",
       "      <th>last_name</th>\n",
       "      <th>email</th>\n",
       "      <th>shoe_type</th>\n",
       "      <th>shoe_material</th>\n",
       "      <th>shoe_color</th>\n",
       "    </tr>\n",
       "  </thead>\n",
       "  <tbody>\n",
       "    <tr>\n",
       "      <th>0</th>\n",
       "      <td>54791</td>\n",
       "      <td>Rebecca</td>\n",
       "      <td>Lindsay</td>\n",
       "      <td>RebeccaLindsay57@hotmail.com</td>\n",
       "      <td>clogs</td>\n",
       "      <td>faux-leather</td>\n",
       "      <td>black</td>\n",
       "    </tr>\n",
       "    <tr>\n",
       "      <th>1</th>\n",
       "      <td>53450</td>\n",
       "      <td>Emily</td>\n",
       "      <td>Joyce</td>\n",
       "      <td>EmilyJoyce25@gmail.com</td>\n",
       "      <td>ballet flats</td>\n",
       "      <td>faux-leather</td>\n",
       "      <td>navy</td>\n",
       "    </tr>\n",
       "    <tr>\n",
       "      <th>3</th>\n",
       "      <td>14437</td>\n",
       "      <td>Justin</td>\n",
       "      <td>Erickson</td>\n",
       "      <td>Justin.Erickson@outlook.com</td>\n",
       "      <td>clogs</td>\n",
       "      <td>faux-leather</td>\n",
       "      <td>red</td>\n",
       "    </tr>\n",
       "    <tr>\n",
       "      <th>4</th>\n",
       "      <td>79357</td>\n",
       "      <td>Andrew</td>\n",
       "      <td>Banks</td>\n",
       "      <td>AB4318@gmail.com</td>\n",
       "      <td>boots</td>\n",
       "      <td>leather</td>\n",
       "      <td>brown</td>\n",
       "    </tr>\n",
       "    <tr>\n",
       "      <th>6</th>\n",
       "      <td>20487</td>\n",
       "      <td>Thomas</td>\n",
       "      <td>Jensen</td>\n",
       "      <td>TJ5470@gmail.com</td>\n",
       "      <td>clogs</td>\n",
       "      <td>fabric</td>\n",
       "      <td>navy</td>\n",
       "    </tr>\n",
       "    <tr>\n",
       "      <th>7</th>\n",
       "      <td>76971</td>\n",
       "      <td>Janice</td>\n",
       "      <td>Hicks</td>\n",
       "      <td>Janice.Hicks@gmail.com</td>\n",
       "      <td>clogs</td>\n",
       "      <td>faux-leather</td>\n",
       "      <td>navy</td>\n",
       "    </tr>\n",
       "    <tr>\n",
       "      <th>8</th>\n",
       "      <td>21586</td>\n",
       "      <td>Gabriel</td>\n",
       "      <td>Porter</td>\n",
       "      <td>GabrielPorter24@gmail.com</td>\n",
       "      <td>clogs</td>\n",
       "      <td>leather</td>\n",
       "      <td>brown</td>\n",
       "    </tr>\n",
       "    <tr>\n",
       "      <th>10</th>\n",
       "      <td>91629</td>\n",
       "      <td>Jessica</td>\n",
       "      <td>Hale</td>\n",
       "      <td>JessicaHale25@gmail.com</td>\n",
       "      <td>clogs</td>\n",
       "      <td>leather</td>\n",
       "      <td>red</td>\n",
       "    </tr>\n",
       "    <tr>\n",
       "      <th>12</th>\n",
       "      <td>45832</td>\n",
       "      <td>Susan</td>\n",
       "      <td>Dennis</td>\n",
       "      <td>SusanDennis58@gmail.com</td>\n",
       "      <td>ballet flats</td>\n",
       "      <td>fabric</td>\n",
       "      <td>white</td>\n",
       "    </tr>\n",
       "    <tr>\n",
       "      <th>14</th>\n",
       "      <td>73431</td>\n",
       "      <td>Rebecca</td>\n",
       "      <td>Charles</td>\n",
       "      <td>Rebecca.Charles@gmail.com</td>\n",
       "      <td>boots</td>\n",
       "      <td>faux-leather</td>\n",
       "      <td>white</td>\n",
       "    </tr>\n",
       "    <tr>\n",
       "      <th>16</th>\n",
       "      <td>39888</td>\n",
       "      <td>Vincent</td>\n",
       "      <td>Stephenson</td>\n",
       "      <td>VS4753@outlook.com</td>\n",
       "      <td>boots</td>\n",
       "      <td>leather</td>\n",
       "      <td>black</td>\n",
       "    </tr>\n",
       "    <tr>\n",
       "      <th>17</th>\n",
       "      <td>35961</td>\n",
       "      <td>Roy</td>\n",
       "      <td>Tillman</td>\n",
       "      <td>RoyTillman20@gmail.com</td>\n",
       "      <td>boots</td>\n",
       "      <td>leather</td>\n",
       "      <td>white</td>\n",
       "    </tr>\n",
       "  </tbody>\n",
       "</table>\n",
       "</div>"
      ],
      "text/plain": [
       "       id first_name   last_name                         email     shoe_type  \\\n",
       "0   54791    Rebecca     Lindsay  RebeccaLindsay57@hotmail.com         clogs   \n",
       "1   53450      Emily       Joyce        EmilyJoyce25@gmail.com  ballet flats   \n",
       "3   14437     Justin    Erickson   Justin.Erickson@outlook.com         clogs   \n",
       "4   79357     Andrew       Banks              AB4318@gmail.com         boots   \n",
       "6   20487     Thomas      Jensen              TJ5470@gmail.com         clogs   \n",
       "7   76971     Janice       Hicks        Janice.Hicks@gmail.com         clogs   \n",
       "8   21586    Gabriel      Porter     GabrielPorter24@gmail.com         clogs   \n",
       "10  91629    Jessica        Hale       JessicaHale25@gmail.com         clogs   \n",
       "12  45832      Susan      Dennis       SusanDennis58@gmail.com  ballet flats   \n",
       "14  73431    Rebecca     Charles     Rebecca.Charles@gmail.com         boots   \n",
       "16  39888    Vincent  Stephenson            VS4753@outlook.com         boots   \n",
       "17  35961        Roy     Tillman        RoyTillman20@gmail.com         boots   \n",
       "\n",
       "   shoe_material shoe_color  \n",
       "0   faux-leather      black  \n",
       "1   faux-leather       navy  \n",
       "3   faux-leather        red  \n",
       "4        leather      brown  \n",
       "6         fabric       navy  \n",
       "7   faux-leather       navy  \n",
       "8        leather      brown  \n",
       "10       leather        red  \n",
       "12        fabric      white  \n",
       "14  faux-leather      white  \n",
       "16       leather      black  \n",
       "17       leather      white  "
      ]
     },
     "execution_count": 15,
     "metadata": {},
     "output_type": "execute_result"
    }
   ],
   "source": [
    "comfy_shoes = orders[orders.shoe_type.isin([\"clogs\", \"boots\", \"ballet flats\"])]\n",
    "\n",
    "comfy_shoes"
   ]
  },
  {
   "cell_type": "code",
   "execution_count": 17,
   "metadata": {},
   "outputs": [],
   "source": [
    "\n",
    "\n",
    "\n",
    "\n",
    "\n",
    "\n",
    "##Annadiendo Columnas\n",
    "\n"
   ]
  },
  {
   "cell_type": "code",
   "execution_count": null,
   "metadata": {},
   "outputs": [],
   "source": [
    "df = pd.DataFrame([\n",
    "    \n",
    "    [1, \"Martillo\", 0.5, 0.75],\n",
    "    \n",
    "    \n",
    "    \n",
    "])"
   ]
  }
 ],
 "metadata": {
  "kernelspec": {
   "display_name": "Python 3",
   "language": "python",
   "name": "python3"
  },
  "language_info": {
   "codemirror_mode": {
    "name": "ipython",
    "version": 3
   },
   "file_extension": ".py",
   "mimetype": "text/x-python",
   "name": "python",
   "nbconvert_exporter": "python",
   "pygments_lexer": "ipython3",
   "version": "3.8.2"
  }
 },
 "nbformat": 4,
 "nbformat_minor": 2
}
